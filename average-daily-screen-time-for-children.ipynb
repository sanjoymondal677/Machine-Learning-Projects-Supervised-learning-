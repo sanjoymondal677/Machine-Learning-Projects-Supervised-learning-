{
 "cells": [
  {
   "cell_type": "code",
   "execution_count": 1,
   "id": "e5118ea2",
   "metadata": {
    "_cell_guid": "b1076dfc-b9ad-4769-8c92-a6c4dae69d19",
    "_uuid": "8f2839f25d086af736a60e9eeb907d3b93b6e0e5",
    "execution": {
     "iopub.execute_input": "2025-04-17T08:29:43.778110Z",
     "iopub.status.busy": "2025-04-17T08:29:43.777788Z",
     "iopub.status.idle": "2025-04-17T08:29:45.771215Z",
     "shell.execute_reply": "2025-04-17T08:29:45.770305Z"
    },
    "papermill": {
     "duration": 2.002787,
     "end_time": "2025-04-17T08:29:45.772962",
     "exception": false,
     "start_time": "2025-04-17T08:29:43.770175",
     "status": "completed"
    },
    "tags": []
   },
   "outputs": [
    {
     "name": "stdout",
     "output_type": "stream",
     "text": [
      "/kaggle/input/average-daily-screen-time-for-children/screen_time.csv\n"
     ]
    }
   ],
   "source": [
    "# This Python 3 environment comes with many helpful analytics libraries installed\n",
    "# It is defined by the kaggle/python Docker image: https://github.com/kaggle/docker-python\n",
    "# For example, here's several helpful packages to load\n",
    "\n",
    "import numpy as np # linear algebra\n",
    "import pandas as pd # data processing, CSV file I/O (e.g. pd.read_csv)\n",
    "\n",
    "# Input data files are available in the read-only \"../input/\" directory\n",
    "# For example, running this (by clicking run or pressing Shift+Enter) will list all files under the input directory\n",
    "\n",
    "import os\n",
    "for dirname, _, filenames in os.walk('/kaggle/input'):\n",
    "    for filename in filenames:\n",
    "        print(os.path.join(dirname, filename))\n",
    "\n",
    "# You can write up to 20GB to the current directory (/kaggle/working/) that gets preserved as output when you create a version using \"Save & Run All\" \n",
    "# You can also write temporary files to /kaggle/temp/, but they won't be saved outside of the current session"
   ]
  },
  {
   "cell_type": "code",
   "execution_count": 2,
   "id": "f08aa7cc",
   "metadata": {
    "execution": {
     "iopub.execute_input": "2025-04-17T08:29:45.793005Z",
     "iopub.status.busy": "2025-04-17T08:29:45.792452Z",
     "iopub.status.idle": "2025-04-17T08:29:47.750958Z",
     "shell.execute_reply": "2025-04-17T08:29:47.750208Z"
    },
    "papermill": {
     "duration": 1.967867,
     "end_time": "2025-04-17T08:29:47.752686",
     "exception": false,
     "start_time": "2025-04-17T08:29:45.784819",
     "status": "completed"
    },
    "tags": []
   },
   "outputs": [],
   "source": [
    "import seaborn as sns\n",
    "import numpy as np\n",
    "import matplotlib.pyplot as plt"
   ]
  },
  {
   "cell_type": "code",
   "execution_count": 3,
   "id": "1602a230",
   "metadata": {
    "execution": {
     "iopub.execute_input": "2025-04-17T08:29:47.767241Z",
     "iopub.status.busy": "2025-04-17T08:29:47.766514Z",
     "iopub.status.idle": "2025-04-17T08:29:47.788174Z",
     "shell.execute_reply": "2025-04-17T08:29:47.787469Z"
    },
    "papermill": {
     "duration": 0.02979,
     "end_time": "2025-04-17T08:29:47.789661",
     "exception": false,
     "start_time": "2025-04-17T08:29:47.759871",
     "status": "completed"
    },
    "tags": []
   },
   "outputs": [],
   "source": [
    "data = pd.read_csv(\"/kaggle/input/average-daily-screen-time-for-children/screen_time.csv\")"
   ]
  },
  {
   "cell_type": "code",
   "execution_count": 4,
   "id": "e3aaeafd",
   "metadata": {
    "execution": {
     "iopub.execute_input": "2025-04-17T08:29:47.803182Z",
     "iopub.status.busy": "2025-04-17T08:29:47.802374Z",
     "iopub.status.idle": "2025-04-17T08:29:47.827222Z",
     "shell.execute_reply": "2025-04-17T08:29:47.826390Z"
    },
    "papermill": {
     "duration": 0.032904,
     "end_time": "2025-04-17T08:29:47.828664",
     "exception": false,
     "start_time": "2025-04-17T08:29:47.795760",
     "status": "completed"
    },
    "tags": []
   },
   "outputs": [
    {
     "data": {
      "text/html": [
       "<div>\n",
       "<style scoped>\n",
       "    .dataframe tbody tr th:only-of-type {\n",
       "        vertical-align: middle;\n",
       "    }\n",
       "\n",
       "    .dataframe tbody tr th {\n",
       "        vertical-align: top;\n",
       "    }\n",
       "\n",
       "    .dataframe thead th {\n",
       "        text-align: right;\n",
       "    }\n",
       "</style>\n",
       "<table border=\"1\" class=\"dataframe\">\n",
       "  <thead>\n",
       "    <tr style=\"text-align: right;\">\n",
       "      <th></th>\n",
       "      <th>Age</th>\n",
       "      <th>Gender</th>\n",
       "      <th>Screen Time Type</th>\n",
       "      <th>Day Type</th>\n",
       "      <th>Average Screen Time (hours)</th>\n",
       "      <th>Sample Size</th>\n",
       "    </tr>\n",
       "  </thead>\n",
       "  <tbody>\n",
       "    <tr>\n",
       "      <th>0</th>\n",
       "      <td>5</td>\n",
       "      <td>Male</td>\n",
       "      <td>Educational</td>\n",
       "      <td>Weekday</td>\n",
       "      <td>0.44</td>\n",
       "      <td>500</td>\n",
       "    </tr>\n",
       "    <tr>\n",
       "      <th>1</th>\n",
       "      <td>5</td>\n",
       "      <td>Male</td>\n",
       "      <td>Recreational</td>\n",
       "      <td>Weekday</td>\n",
       "      <td>1.11</td>\n",
       "      <td>500</td>\n",
       "    </tr>\n",
       "    <tr>\n",
       "      <th>2</th>\n",
       "      <td>5</td>\n",
       "      <td>Male</td>\n",
       "      <td>Total</td>\n",
       "      <td>Weekday</td>\n",
       "      <td>1.55</td>\n",
       "      <td>500</td>\n",
       "    </tr>\n",
       "    <tr>\n",
       "      <th>3</th>\n",
       "      <td>5</td>\n",
       "      <td>Male</td>\n",
       "      <td>Educational</td>\n",
       "      <td>Weekend</td>\n",
       "      <td>0.50</td>\n",
       "      <td>500</td>\n",
       "    </tr>\n",
       "    <tr>\n",
       "      <th>4</th>\n",
       "      <td>5</td>\n",
       "      <td>Male</td>\n",
       "      <td>Recreational</td>\n",
       "      <td>Weekend</td>\n",
       "      <td>1.44</td>\n",
       "      <td>500</td>\n",
       "    </tr>\n",
       "  </tbody>\n",
       "</table>\n",
       "</div>"
      ],
      "text/plain": [
       "   Age Gender Screen Time Type Day Type  Average Screen Time (hours)  \\\n",
       "0    5   Male      Educational  Weekday                         0.44   \n",
       "1    5   Male     Recreational  Weekday                         1.11   \n",
       "2    5   Male            Total  Weekday                         1.55   \n",
       "3    5   Male      Educational  Weekend                         0.50   \n",
       "4    5   Male     Recreational  Weekend                         1.44   \n",
       "\n",
       "   Sample Size  \n",
       "0          500  \n",
       "1          500  \n",
       "2          500  \n",
       "3          500  \n",
       "4          500  "
      ]
     },
     "execution_count": 4,
     "metadata": {},
     "output_type": "execute_result"
    }
   ],
   "source": [
    "data.head()"
   ]
  },
  {
   "cell_type": "code",
   "execution_count": 5,
   "id": "69728b60",
   "metadata": {
    "execution": {
     "iopub.execute_input": "2025-04-17T08:29:47.842308Z",
     "iopub.status.busy": "2025-04-17T08:29:47.841659Z",
     "iopub.status.idle": "2025-04-17T08:29:47.860262Z",
     "shell.execute_reply": "2025-04-17T08:29:47.859305Z"
    },
    "papermill": {
     "duration": 0.026748,
     "end_time": "2025-04-17T08:29:47.861608",
     "exception": false,
     "start_time": "2025-04-17T08:29:47.834860",
     "status": "completed"
    },
    "tags": []
   },
   "outputs": [
    {
     "name": "stdout",
     "output_type": "stream",
     "text": [
      "Unique values of each columns:\n",
      " Age                             11\n",
      "Gender                           3\n",
      "Screen Time Type                 3\n",
      "Day Type                         2\n",
      "Average Screen Time (hours)    172\n",
      "Sample Size                     11\n",
      "dtype: int64\n",
      "Check for Null values Age                            0\n",
      "Gender                         0\n",
      "Screen Time Type               0\n",
      "Day Type                       0\n",
      "Average Screen Time (hours)    0\n",
      "Sample Size                    0\n",
      "dtype: int64\n",
      "check for duplicates rows 0\n",
      "Data size:  (198, 6)\n"
     ]
    }
   ],
   "source": [
    "print(\"Unique values of each columns:\\n\",data.nunique())\n",
    "print(\"Check for Null values\",data.isnull().sum())\n",
    "print(\"check for duplicates rows\",data.duplicated().sum())\n",
    "print(\"Data size: \",data.shape)"
   ]
  },
  {
   "cell_type": "code",
   "execution_count": 6,
   "id": "4c2dc4e9",
   "metadata": {
    "execution": {
     "iopub.execute_input": "2025-04-17T08:29:47.875182Z",
     "iopub.status.busy": "2025-04-17T08:29:47.874438Z",
     "iopub.status.idle": "2025-04-17T08:29:47.890069Z",
     "shell.execute_reply": "2025-04-17T08:29:47.889106Z"
    },
    "papermill": {
     "duration": 0.023718,
     "end_time": "2025-04-17T08:29:47.891476",
     "exception": false,
     "start_time": "2025-04-17T08:29:47.867758",
     "status": "completed"
    },
    "tags": []
   },
   "outputs": [
    {
     "name": "stdout",
     "output_type": "stream",
     "text": [
      "<class 'pandas.core.frame.DataFrame'>\n",
      "RangeIndex: 198 entries, 0 to 197\n",
      "Data columns (total 6 columns):\n",
      " #   Column                       Non-Null Count  Dtype  \n",
      "---  ------                       --------------  -----  \n",
      " 0   Age                          198 non-null    int64  \n",
      " 1   Gender                       198 non-null    object \n",
      " 2   Screen Time Type             198 non-null    object \n",
      " 3   Day Type                     198 non-null    object \n",
      " 4   Average Screen Time (hours)  198 non-null    float64\n",
      " 5   Sample Size                  198 non-null    int64  \n",
      "dtypes: float64(1), int64(2), object(3)\n",
      "memory usage: 9.4+ KB\n"
     ]
    }
   ],
   "source": [
    "data.info()"
   ]
  },
  {
   "cell_type": "code",
   "execution_count": 7,
   "id": "3ab79690",
   "metadata": {
    "execution": {
     "iopub.execute_input": "2025-04-17T08:29:47.904935Z",
     "iopub.status.busy": "2025-04-17T08:29:47.904381Z",
     "iopub.status.idle": "2025-04-17T08:29:48.117216Z",
     "shell.execute_reply": "2025-04-17T08:29:48.116379Z"
    },
    "papermill": {
     "duration": 0.220921,
     "end_time": "2025-04-17T08:29:48.118606",
     "exception": false,
     "start_time": "2025-04-17T08:29:47.897685",
     "status": "completed"
    },
    "tags": []
   },
   "outputs": [
    {
     "data": {
      "image/png": "[encoded data removed]",
      "text/plain": [
       "<Figure size 640x480 with 1 Axes>"
      ]
     },
     "metadata": {},
     "output_type": "display_data"
    }
   ],
   "source": [
    "sns.countplot(x='Gender',data=data)\n",
    "plt.show()"
   ]
  },
  {
   "cell_type": "code",
   "execution_count": 8,
   "id": "08bab542",
   "metadata": {
    "execution": {
     "iopub.execute_input": "2025-04-17T08:29:48.132785Z",
     "iopub.status.busy": "2025-04-17T08:29:48.132491Z",
     "iopub.status.idle": "2025-04-17T08:29:48.384643Z",
     "shell.execute_reply": "2025-04-17T08:29:48.383717Z"
    },
    "papermill": {
     "duration": 0.26086,
     "end_time": "2025-04-17T08:29:48.386129",
     "exception": false,
     "start_time": "2025-04-17T08:29:48.125269",
     "status": "completed"
    },
    "tags": []
   },
   "outputs": [
    {
     "data": {
      "image/png": "[encoded data removed]",
      "text/plain": [
       "<Figure size 640x480 with 1 Axes>"
      ]
     },
     "metadata": {},
     "output_type": "display_data"
    }
   ],
   "source": [
    "sns.scatterplot(x='Age',y='Average Screen Time (hours)',data=data,hue='Gender')\n",
    "plt.show()"
   ]
  },
  {
   "cell_type": "code",
   "execution_count": 9,
   "id": "09cfce0c",
   "metadata": {
    "execution": {
     "iopub.execute_input": "2025-04-17T08:29:48.402663Z",
     "iopub.status.busy": "2025-04-17T08:29:48.402016Z",
     "iopub.status.idle": "2025-04-17T08:29:48.620121Z",
     "shell.execute_reply": "2025-04-17T08:29:48.619220Z"
    },
    "papermill": {
     "duration": 0.227969,
     "end_time": "2025-04-17T08:29:48.621543",
     "exception": false,
     "start_time": "2025-04-17T08:29:48.393574",
     "status": "completed"
    },
    "tags": []
   },
   "outputs": [
    {
     "data": {
      "image/png": "[encoded data removed]",
      "text/plain": [
       "<Figure size 640x480 with 1 Axes>"
      ]
     },
     "metadata": {},
     "output_type": "display_data"
    }
   ],
   "source": [
    "sns.scatterplot(x='Age',y='Average Screen Time (hours)',data=data,hue='Day Type')\n",
    "plt.show()"
   ]
  },
  {
   "cell_type": "code",
   "execution_count": 10,
   "id": "b5715d8d",
   "metadata": {
    "execution": {
     "iopub.execute_input": "2025-04-17T08:29:48.639730Z",
     "iopub.status.busy": "2025-04-17T08:29:48.638975Z",
     "iopub.status.idle": "2025-04-17T08:29:48.768943Z",
     "shell.execute_reply": "2025-04-17T08:29:48.767973Z"
    },
    "papermill": {
     "duration": 0.14045,
     "end_time": "2025-04-17T08:29:48.770399",
     "exception": false,
     "start_time": "2025-04-17T08:29:48.629949",
     "status": "completed"
    },
    "tags": []
   },
   "outputs": [
    {
     "name": "stderr",
     "output_type": "stream",
     "text": [
      "/tmp/ipykernel_13/2800770915.py:1: FutureWarning: \n",
      "\n",
      "The `ci` parameter is deprecated. Use `errorbar=None` for the same effect.\n",
      "\n",
      "  ax = sns.barplot(x='Screen Time Type',y='Average Screen Time (hours)',data=data,ci=None)\n"
     ]
    },
    {
     "data": {
      "image/png": "[encoded data removed]",
      "text/plain": [
       "<Figure size 640x480 with 1 Axes>"
      ]
     },
     "metadata": {},
     "output_type": "display_data"
    }
   ],
   "source": [
    "ax = sns.barplot(x='Screen Time Type',y='Average Screen Time (hours)',data=data,ci=None)\n",
    "for p in ax.patches:\n",
    "    ax.text(p.get_x() + p.get_width()/2,  # X position\n",
    "            p.get_height() + 0.1,         # Y position\n",
    "            int(p.get_height()),          # Count value\n",
    "            ha='center', va='bottom', fontsize=12, fontweight='bold')\n",
    "plt.show()"
   ]
  },
  {
   "cell_type": "code",
   "execution_count": 11,
   "id": "11716b69",
   "metadata": {
    "execution": {
     "iopub.execute_input": "2025-04-17T08:29:48.789999Z",
     "iopub.status.busy": "2025-04-17T08:29:48.789414Z",
     "iopub.status.idle": "2025-04-17T08:29:48.799751Z",
     "shell.execute_reply": "2025-04-17T08:29:48.798957Z"
    },
    "papermill": {
     "duration": 0.021805,
     "end_time": "2025-04-17T08:29:48.801180",
     "exception": false,
     "start_time": "2025-04-17T08:29:48.779375",
     "status": "completed"
    },
    "tags": []
   },
   "outputs": [
    {
     "data": {
      "text/html": [
       "<div>\n",
       "<style scoped>\n",
       "    .dataframe tbody tr th:only-of-type {\n",
       "        vertical-align: middle;\n",
       "    }\n",
       "\n",
       "    .dataframe tbody tr th {\n",
       "        vertical-align: top;\n",
       "    }\n",
       "\n",
       "    .dataframe thead th {\n",
       "        text-align: right;\n",
       "    }\n",
       "</style>\n",
       "<table border=\"1\" class=\"dataframe\">\n",
       "  <thead>\n",
       "    <tr style=\"text-align: right;\">\n",
       "      <th></th>\n",
       "      <th>Age</th>\n",
       "      <th>Gender</th>\n",
       "      <th>Screen Time Type</th>\n",
       "      <th>Day Type</th>\n",
       "      <th>Average Screen Time (hours)</th>\n",
       "      <th>Sample Size</th>\n",
       "    </tr>\n",
       "  </thead>\n",
       "  <tbody>\n",
       "    <tr>\n",
       "      <th>0</th>\n",
       "      <td>5</td>\n",
       "      <td>Male</td>\n",
       "      <td>Educational</td>\n",
       "      <td>Weekday</td>\n",
       "      <td>0.44</td>\n",
       "      <td>500</td>\n",
       "    </tr>\n",
       "    <tr>\n",
       "      <th>1</th>\n",
       "      <td>5</td>\n",
       "      <td>Male</td>\n",
       "      <td>Recreational</td>\n",
       "      <td>Weekday</td>\n",
       "      <td>1.11</td>\n",
       "      <td>500</td>\n",
       "    </tr>\n",
       "    <tr>\n",
       "      <th>2</th>\n",
       "      <td>5</td>\n",
       "      <td>Male</td>\n",
       "      <td>Total</td>\n",
       "      <td>Weekday</td>\n",
       "      <td>1.55</td>\n",
       "      <td>500</td>\n",
       "    </tr>\n",
       "    <tr>\n",
       "      <th>3</th>\n",
       "      <td>5</td>\n",
       "      <td>Male</td>\n",
       "      <td>Educational</td>\n",
       "      <td>Weekend</td>\n",
       "      <td>0.50</td>\n",
       "      <td>500</td>\n",
       "    </tr>\n",
       "    <tr>\n",
       "      <th>4</th>\n",
       "      <td>5</td>\n",
       "      <td>Male</td>\n",
       "      <td>Recreational</td>\n",
       "      <td>Weekend</td>\n",
       "      <td>1.44</td>\n",
       "      <td>500</td>\n",
       "    </tr>\n",
       "  </tbody>\n",
       "</table>\n",
       "</div>"
      ],
      "text/plain": [
       "   Age Gender Screen Time Type Day Type  Average Screen Time (hours)  \\\n",
       "0    5   Male      Educational  Weekday                         0.44   \n",
       "1    5   Male     Recreational  Weekday                         1.11   \n",
       "2    5   Male            Total  Weekday                         1.55   \n",
       "3    5   Male      Educational  Weekend                         0.50   \n",
       "4    5   Male     Recreational  Weekend                         1.44   \n",
       "\n",
       "   Sample Size  \n",
       "0          500  \n",
       "1          500  \n",
       "2          500  \n",
       "3          500  \n",
       "4          500  "
      ]
     },
     "execution_count": 11,
     "metadata": {},
     "output_type": "execute_result"
    }
   ],
   "source": [
    "data.head()"
   ]
  },
  {
   "cell_type": "code",
   "execution_count": 12,
   "id": "a533abd4",
   "metadata": {
    "execution": {
     "iopub.execute_input": "2025-04-17T08:29:48.819598Z",
     "iopub.status.busy": "2025-04-17T08:29:48.819321Z",
     "iopub.status.idle": "2025-04-17T08:29:49.036962Z",
     "shell.execute_reply": "2025-04-17T08:29:49.036091Z"
    },
    "papermill": {
     "duration": 0.228739,
     "end_time": "2025-04-17T08:29:49.038526",
     "exception": false,
     "start_time": "2025-04-17T08:29:48.809787",
     "status": "completed"
    },
    "tags": []
   },
   "outputs": [
    {
     "name": "stderr",
     "output_type": "stream",
     "text": [
      "/tmp/ipykernel_13/585942754.py:1: UserWarning: \n",
      "\n",
      "`distplot` is a deprecated function and will be removed in seaborn v0.14.0.\n",
      "\n",
      "Please adapt your code to use either `displot` (a figure-level function with\n",
      "similar flexibility) or `histplot` (an axes-level function for histograms).\n",
      "\n",
      "For a guide to updating your code to use the new functions, please see\n",
      "https://gist.github.com/mwaskom/de44147ed2974457ad6372750bbe5751\n",
      "\n",
      "  sns.distplot(data['Age'])\n",
      "/usr/local/lib/python3.11/dist-packages/seaborn/_oldcore.py:1119: FutureWarning: use_inf_as_na option is deprecated and will be removed in a future version. Convert inf values to NaN before operating instead.\n",
      "  with pd.option_context('mode.use_inf_as_na', True):\n"
     ]
    },
    {
     "data": {
      "image/png": "[encoded data removed]",
      "text/plain": [
       "<Figure size 640x480 with 1 Axes>"
      ]
     },
     "metadata": {},
     "output_type": "display_data"
    }
   ],
   "source": [
    "sns.distplot(data['Age'])\n",
    "plt.show()"
   ]
  },
  {
   "cell_type": "code",
   "execution_count": 13,
   "id": "b41620b2",
   "metadata": {
    "execution": {
     "iopub.execute_input": "2025-04-17T08:29:49.060144Z",
     "iopub.status.busy": "2025-04-17T08:29:49.059174Z",
     "iopub.status.idle": "2025-04-17T08:29:49.256329Z",
     "shell.execute_reply": "2025-04-17T08:29:49.255223Z"
    },
    "papermill": {
     "duration": 0.208753,
     "end_time": "2025-04-17T08:29:49.257715",
     "exception": false,
     "start_time": "2025-04-17T08:29:49.048962",
     "status": "completed"
    },
    "tags": []
   },
   "outputs": [
    {
     "data": {
      "image/png": "[encoded data removed]",
      "text/plain": [
       "<Figure size 640x480 with 1 Axes>"
      ]
     },
     "metadata": {},
     "output_type": "display_data"
    }
   ],
   "source": [
    "figure=data.boxplot(column=\"Average Screen Time (hours)\")"
   ]
  },
  {
   "cell_type": "code",
   "execution_count": 14,
   "id": "22c4aecc",
   "metadata": {
    "execution": {
     "iopub.execute_input": "2025-04-17T08:29:49.278222Z",
     "iopub.status.busy": "2025-04-17T08:29:49.277567Z",
     "iopub.status.idle": "2025-04-17T08:29:49.287939Z",
     "shell.execute_reply": "2025-04-17T08:29:49.287108Z"
    },
    "papermill": {
     "duration": 0.022094,
     "end_time": "2025-04-17T08:29:49.289327",
     "exception": false,
     "start_time": "2025-04-17T08:29:49.267233",
     "status": "completed"
    },
    "tags": []
   },
   "outputs": [
    {
     "data": {
      "text/html": [
       "<div>\n",
       "<style scoped>\n",
       "    .dataframe tbody tr th:only-of-type {\n",
       "        vertical-align: middle;\n",
       "    }\n",
       "\n",
       "    .dataframe tbody tr th {\n",
       "        vertical-align: top;\n",
       "    }\n",
       "\n",
       "    .dataframe thead th {\n",
       "        text-align: right;\n",
       "    }\n",
       "</style>\n",
       "<table border=\"1\" class=\"dataframe\">\n",
       "  <thead>\n",
       "    <tr style=\"text-align: right;\">\n",
       "      <th></th>\n",
       "      <th>Age</th>\n",
       "      <th>Gender</th>\n",
       "      <th>Screen Time Type</th>\n",
       "      <th>Day Type</th>\n",
       "      <th>Average Screen Time (hours)</th>\n",
       "      <th>Sample Size</th>\n",
       "    </tr>\n",
       "  </thead>\n",
       "  <tbody>\n",
       "    <tr>\n",
       "      <th>0</th>\n",
       "      <td>5</td>\n",
       "      <td>Male</td>\n",
       "      <td>Educational</td>\n",
       "      <td>Weekday</td>\n",
       "      <td>0.44</td>\n",
       "      <td>500</td>\n",
       "    </tr>\n",
       "    <tr>\n",
       "      <th>1</th>\n",
       "      <td>5</td>\n",
       "      <td>Male</td>\n",
       "      <td>Recreational</td>\n",
       "      <td>Weekday</td>\n",
       "      <td>1.11</td>\n",
       "      <td>500</td>\n",
       "    </tr>\n",
       "    <tr>\n",
       "      <th>2</th>\n",
       "      <td>5</td>\n",
       "      <td>Male</td>\n",
       "      <td>Total</td>\n",
       "      <td>Weekday</td>\n",
       "      <td>1.55</td>\n",
       "      <td>500</td>\n",
       "    </tr>\n",
       "    <tr>\n",
       "      <th>3</th>\n",
       "      <td>5</td>\n",
       "      <td>Male</td>\n",
       "      <td>Educational</td>\n",
       "      <td>Weekend</td>\n",
       "      <td>0.50</td>\n",
       "      <td>500</td>\n",
       "    </tr>\n",
       "    <tr>\n",
       "      <th>4</th>\n",
       "      <td>5</td>\n",
       "      <td>Male</td>\n",
       "      <td>Recreational</td>\n",
       "      <td>Weekend</td>\n",
       "      <td>1.44</td>\n",
       "      <td>500</td>\n",
       "    </tr>\n",
       "  </tbody>\n",
       "</table>\n",
       "</div>"
      ],
      "text/plain": [
       "   Age Gender Screen Time Type Day Type  Average Screen Time (hours)  \\\n",
       "0    5   Male      Educational  Weekday                         0.44   \n",
       "1    5   Male     Recreational  Weekday                         1.11   \n",
       "2    5   Male            Total  Weekday                         1.55   \n",
       "3    5   Male      Educational  Weekend                         0.50   \n",
       "4    5   Male     Recreational  Weekend                         1.44   \n",
       "\n",
       "   Sample Size  \n",
       "0          500  \n",
       "1          500  \n",
       "2          500  \n",
       "3          500  \n",
       "4          500  "
      ]
     },
     "execution_count": 14,
     "metadata": {},
     "output_type": "execute_result"
    }
   ],
   "source": [
    "data.head()"
   ]
  },
  {
   "cell_type": "code",
   "execution_count": 15,
   "id": "85388a5d",
   "metadata": {
    "execution": {
     "iopub.execute_input": "2025-04-17T08:29:49.309680Z",
     "iopub.status.busy": "2025-04-17T08:29:49.309384Z",
     "iopub.status.idle": "2025-04-17T08:29:49.472550Z",
     "shell.execute_reply": "2025-04-17T08:29:49.471694Z"
    },
    "papermill": {
     "duration": 0.175147,
     "end_time": "2025-04-17T08:29:49.474012",
     "exception": false,
     "start_time": "2025-04-17T08:29:49.298865",
     "status": "completed"
    },
    "tags": []
   },
   "outputs": [
    {
     "data": {
      "text/html": [
       "<div>\n",
       "<style scoped>\n",
       "    .dataframe tbody tr th:only-of-type {\n",
       "        vertical-align: middle;\n",
       "    }\n",
       "\n",
       "    .dataframe tbody tr th {\n",
       "        vertical-align: top;\n",
       "    }\n",
       "\n",
       "    .dataframe thead th {\n",
       "        text-align: right;\n",
       "    }\n",
       "</style>\n",
       "<table border=\"1\" class=\"dataframe\">\n",
       "  <thead>\n",
       "    <tr style=\"text-align: right;\">\n",
       "      <th></th>\n",
       "      <th>Age</th>\n",
       "      <th>Gender</th>\n",
       "      <th>Screen Time Type</th>\n",
       "      <th>Day Type</th>\n",
       "      <th>Average Screen Time (hours)</th>\n",
       "      <th>Sample Size</th>\n",
       "    </tr>\n",
       "  </thead>\n",
       "  <tbody>\n",
       "    <tr>\n",
       "      <th>0</th>\n",
       "      <td>5</td>\n",
       "      <td>1</td>\n",
       "      <td>0</td>\n",
       "      <td>0</td>\n",
       "      <td>0.44</td>\n",
       "      <td>500</td>\n",
       "    </tr>\n",
       "    <tr>\n",
       "      <th>1</th>\n",
       "      <td>5</td>\n",
       "      <td>1</td>\n",
       "      <td>1</td>\n",
       "      <td>0</td>\n",
       "      <td>1.11</td>\n",
       "      <td>500</td>\n",
       "    </tr>\n",
       "    <tr>\n",
       "      <th>2</th>\n",
       "      <td>5</td>\n",
       "      <td>1</td>\n",
       "      <td>2</td>\n",
       "      <td>0</td>\n",
       "      <td>1.55</td>\n",
       "      <td>500</td>\n",
       "    </tr>\n",
       "    <tr>\n",
       "      <th>3</th>\n",
       "      <td>5</td>\n",
       "      <td>1</td>\n",
       "      <td>0</td>\n",
       "      <td>1</td>\n",
       "      <td>0.50</td>\n",
       "      <td>500</td>\n",
       "    </tr>\n",
       "    <tr>\n",
       "      <th>4</th>\n",
       "      <td>5</td>\n",
       "      <td>1</td>\n",
       "      <td>1</td>\n",
       "      <td>1</td>\n",
       "      <td>1.44</td>\n",
       "      <td>500</td>\n",
       "    </tr>\n",
       "  </tbody>\n",
       "</table>\n",
       "</div>"
      ],
      "text/plain": [
       "   Age  Gender  Screen Time Type  Day Type  Average Screen Time (hours)  \\\n",
       "0    5       1                 0         0                         0.44   \n",
       "1    5       1                 1         0                         1.11   \n",
       "2    5       1                 2         0                         1.55   \n",
       "3    5       1                 0         1                         0.50   \n",
       "4    5       1                 1         1                         1.44   \n",
       "\n",
       "   Sample Size  \n",
       "0          500  \n",
       "1          500  \n",
       "2          500  \n",
       "3          500  \n",
       "4          500  "
      ]
     },
     "execution_count": 15,
     "metadata": {},
     "output_type": "execute_result"
    }
   ],
   "source": [
    "def LABEL_ENCODING(c1):\n",
    "    from sklearn import preprocessing\n",
    "    label_encoder = preprocessing.LabelEncoder()\n",
    "    data[c1]= label_encoder.fit_transform(data[c1])\n",
    "    data[c1].unique()\n",
    "LABEL_ENCODING(\"Gender\")\n",
    "LABEL_ENCODING(\"Screen Time Type\")\n",
    "LABEL_ENCODING(\"Day Type\")\n",
    "data.head()"
   ]
  },
  {
   "cell_type": "code",
   "execution_count": 16,
   "id": "c07aa4a7",
   "metadata": {
    "execution": {
     "iopub.execute_input": "2025-04-17T08:29:49.494896Z",
     "iopub.status.busy": "2025-04-17T08:29:49.494605Z",
     "iopub.status.idle": "2025-04-17T08:29:49.499964Z",
     "shell.execute_reply": "2025-04-17T08:29:49.499246Z"
    },
    "papermill": {
     "duration": 0.017536,
     "end_time": "2025-04-17T08:29:49.501404",
     "exception": false,
     "start_time": "2025-04-17T08:29:49.483868",
     "status": "completed"
    },
    "tags": []
   },
   "outputs": [],
   "source": [
    "X = data.drop('Average Screen Time (hours)',axis=1)\n",
    "y = data['Average Screen Time (hours)']\n"
   ]
  },
  {
   "cell_type": "code",
   "execution_count": 17,
   "id": "a50b0b74",
   "metadata": {
    "execution": {
     "iopub.execute_input": "2025-04-17T08:29:49.522645Z",
     "iopub.status.busy": "2025-04-17T08:29:49.521990Z",
     "iopub.status.idle": "2025-04-17T08:29:49.625262Z",
     "shell.execute_reply": "2025-04-17T08:29:49.624536Z"
    },
    "papermill": {
     "duration": 0.115376,
     "end_time": "2025-04-17T08:29:49.626725",
     "exception": false,
     "start_time": "2025-04-17T08:29:49.511349",
     "status": "completed"
    },
    "tags": []
   },
   "outputs": [],
   "source": [
    "from sklearn.model_selection import train_test_split #split the data set\n",
    "X_train,X_test,y_train,y_test = train_test_split(X,y,test_size=0.2,random_state=0)"
   ]
  },
  {
   "cell_type": "code",
   "execution_count": 18,
   "id": "bf795387",
   "metadata": {
    "execution": {
     "iopub.execute_input": "2025-04-17T08:29:49.648095Z",
     "iopub.status.busy": "2025-04-17T08:29:49.647741Z",
     "iopub.status.idle": "2025-04-17T08:29:49.652863Z",
     "shell.execute_reply": "2025-04-17T08:29:49.652011Z"
    },
    "papermill": {
     "duration": 0.017257,
     "end_time": "2025-04-17T08:29:49.654217",
     "exception": false,
     "start_time": "2025-04-17T08:29:49.636960",
     "status": "completed"
    },
    "tags": []
   },
   "outputs": [
    {
     "name": "stdout",
     "output_type": "stream",
     "text": [
      "(158, 5)\n",
      "(40, 5)\n",
      "(158,)\n",
      "(40,)\n"
     ]
    }
   ],
   "source": [
    "print(X_train.shape)\n",
    "print(X_test.shape)\n",
    "print(y_train.shape)\n",
    "print(y_test.shape)"
   ]
  },
  {
   "cell_type": "markdown",
   "id": "d0b89ccd",
   "metadata": {
    "papermill": {
     "duration": 0.009581,
     "end_time": "2025-04-17T08:29:49.673518",
     "exception": false,
     "start_time": "2025-04-17T08:29:49.663937",
     "status": "completed"
    },
    "tags": []
   },
   "source": [
    "**LinearRegression**"
   ]
  },
  {
   "cell_type": "code",
   "execution_count": 19,
   "id": "6e0937be",
   "metadata": {
    "execution": {
     "iopub.execute_input": "2025-04-17T08:29:49.694623Z",
     "iopub.status.busy": "2025-04-17T08:29:49.693829Z",
     "iopub.status.idle": "2025-04-17T08:29:49.814929Z",
     "shell.execute_reply": "2025-04-17T08:29:49.814119Z"
    },
    "papermill": {
     "duration": 0.133296,
     "end_time": "2025-04-17T08:29:49.816569",
     "exception": false,
     "start_time": "2025-04-17T08:29:49.683273",
     "status": "completed"
    },
    "tags": []
   },
   "outputs": [
    {
     "data": {
      "text/html": [
       "<style>#sk-container-id-1 {color: black;background-color: white;}#sk-container-id-1 pre{padding: 0;}#sk-container-id-1 div.sk-toggleable {background-color: white;}#sk-container-id-1 label.sk-toggleable__label {cursor: pointer;display: block;width: 100%;margin-bottom: 0;padding: 0.3em;box-sizing: border-box;text-align: center;}#sk-container-id-1 label.sk-toggleable__label-arrow:before {content: \"▸\";float: left;margin-right: 0.25em;color: #696969;}#sk-container-id-1 label.sk-toggleable__label-arrow:hover:before {color: black;}#sk-container-id-1 div.sk-estimator:hover label.sk-toggleable__label-arrow:before {color: black;}#sk-container-id-1 div.sk-toggleable__content {max-height: 0;max-width: 0;overflow: hidden;text-align: left;background-color: #f0f8ff;}#sk-container-id-1 div.sk-toggleable__content pre {margin: 0.2em;color: black;border-radius: 0.25em;background-color: #f0f8ff;}#sk-container-id-1 input.sk-toggleable__control:checked~div.sk-toggleable__content {max-height: 200px;max-width: 100%;overflow: auto;}#sk-container-id-1 input.sk-toggleable__control:checked~label.sk-toggleable__label-arrow:before {content: \"▾\";}#sk-container-id-1 div.sk-estimator input.sk-toggleable__control:checked~label.sk-toggleable__label {background-color: #d4ebff;}#sk-container-id-1 div.sk-label input.sk-toggleable__control:checked~label.sk-toggleable__label {background-color: #d4ebff;}#sk-container-id-1 input.sk-hidden--visually {border: 0;clip: rect(1px 1px 1px 1px);clip: rect(1px, 1px, 1px, 1px);height: 1px;margin: -1px;overflow: hidden;padding: 0;position: absolute;width: 1px;}#sk-container-id-1 div.sk-estimator {font-family: monospace;background-color: #f0f8ff;border: 1px dotted black;border-radius: 0.25em;box-sizing: border-box;margin-bottom: 0.5em;}#sk-container-id-1 div.sk-estimator:hover {background-color: #d4ebff;}#sk-container-id-1 div.sk-parallel-item::after {content: \"\";width: 100%;border-bottom: 1px solid gray;flex-grow: 1;}#sk-container-id-1 div.sk-label:hover label.sk-toggleable__label {background-color: #d4ebff;}#sk-container-id-1 div.sk-serial::before {content: \"\";position: absolute;border-left: 1px solid gray;box-sizing: border-box;top: 0;bottom: 0;left: 50%;z-index: 0;}#sk-container-id-1 div.sk-serial {display: flex;flex-direction: column;align-items: center;background-color: white;padding-right: 0.2em;padding-left: 0.2em;position: relative;}#sk-container-id-1 div.sk-item {position: relative;z-index: 1;}#sk-container-id-1 div.sk-parallel {display: flex;align-items: stretch;justify-content: center;background-color: white;position: relative;}#sk-container-id-1 div.sk-item::before, #sk-container-id-1 div.sk-parallel-item::before {content: \"\";position: absolute;border-left: 1px solid gray;box-sizing: border-box;top: 0;bottom: 0;left: 50%;z-index: -1;}#sk-container-id-1 div.sk-parallel-item {display: flex;flex-direction: column;z-index: 1;position: relative;background-color: white;}#sk-container-id-1 div.sk-parallel-item:first-child::after {align-self: flex-end;width: 50%;}#sk-container-id-1 div.sk-parallel-item:last-child::after {align-self: flex-start;width: 50%;}#sk-container-id-1 div.sk-parallel-item:only-child::after {width: 0;}#sk-container-id-1 div.sk-dashed-wrapped {border: 1px dashed gray;margin: 0 0.4em 0.5em 0.4em;box-sizing: border-box;padding-bottom: 0.4em;background-color: white;}#sk-container-id-1 div.sk-label label {font-family: monospace;font-weight: bold;display: inline-block;line-height: 1.2em;}#sk-container-id-1 div.sk-label-container {text-align: center;}#sk-container-id-1 div.sk-container {/* jupyter's `normalize.less` sets `[hidden] { display: none; }` but bootstrap.min.css set `[hidden] { display: none !important; }` so we also need the `!important` here to be able to override the default hidden behavior on the sphinx rendered scikit-learn.org. See: https://github.com/scikit-learn/scikit-learn/issues/21755 */display: inline-block !important;position: relative;}#sk-container-id-1 div.sk-text-repr-fallback {display: none;}</style><div id=\"sk-container-id-1\" class=\"sk-top-container\"><div class=\"sk-text-repr-fallback\"><pre>LinearRegression()</pre><b>In a Jupyter environment, please rerun this cell to show the HTML representation or trust the notebook. <br />On GitHub, the HTML representation is unable to render, please try loading this page with nbviewer.org.</b></div><div class=\"sk-container\" hidden><div class=\"sk-item\"><div class=\"sk-estimator sk-toggleable\"><input class=\"sk-toggleable__control sk-hidden--visually\" id=\"sk-estimator-id-1\" type=\"checkbox\" checked><label for=\"sk-estimator-id-1\" class=\"sk-toggleable__label sk-toggleable__label-arrow\">LinearRegression</label><div class=\"sk-toggleable__content\"><pre>LinearRegression()</pre></div></div></div></div></div>"
      ],
      "text/plain": [
       "LinearRegression()"
      ]
     },
     "execution_count": 19,
     "metadata": {},
     "output_type": "execute_result"
    }
   ],
   "source": [
    "from sklearn.linear_model import LinearRegression\n",
    "from sklearn.metrics import mean_squared_error\n",
    "lin_model = LinearRegression()\n",
    "lin_model.fit(X_train,y_train)"
   ]
  },
  {
   "cell_type": "code",
   "execution_count": 20,
   "id": "2b433f5c",
   "metadata": {
    "execution": {
     "iopub.execute_input": "2025-04-17T08:29:49.839657Z",
     "iopub.status.busy": "2025-04-17T08:29:49.839341Z",
     "iopub.status.idle": "2025-04-17T08:29:49.846387Z",
     "shell.execute_reply": "2025-04-17T08:29:49.845617Z"
    },
    "papermill": {
     "duration": 0.020102,
     "end_time": "2025-04-17T08:29:49.847780",
     "exception": false,
     "start_time": "2025-04-17T08:29:49.827678",
     "status": "completed"
    },
    "tags": []
   },
   "outputs": [],
   "source": [
    "y_test_predict = lin_model.predict(X_test)\n",
    "rmse = (np.sqrt(mean_squared_error(y_test,y_test_predict)))"
   ]
  },
  {
   "cell_type": "code",
   "execution_count": 21,
   "id": "827365a9",
   "metadata": {
    "execution": {
     "iopub.execute_input": "2025-04-17T08:29:49.871183Z",
     "iopub.status.busy": "2025-04-17T08:29:49.870247Z",
     "iopub.status.idle": "2025-04-17T08:29:49.876426Z",
     "shell.execute_reply": "2025-04-17T08:29:49.875518Z"
    },
    "papermill": {
     "duration": 0.019224,
     "end_time": "2025-04-17T08:29:49.877801",
     "exception": false,
     "start_time": "2025-04-17T08:29:49.858577",
     "status": "completed"
    },
    "tags": []
   },
   "outputs": [
    {
     "name": "stdout",
     "output_type": "stream",
     "text": [
      "Accuracy:  0.8761177745726286\n"
     ]
    }
   ],
   "source": [
    "from sklearn.metrics import r2_score\n",
    "r2 = r2_score(y_test,y_test_predict)\n",
    "print(\"Accuracy: \",r2)"
   ]
  },
  {
   "cell_type": "markdown",
   "id": "670f85ed",
   "metadata": {
    "papermill": {
     "duration": 0.010518,
     "end_time": "2025-04-17T08:29:49.898999",
     "exception": false,
     "start_time": "2025-04-17T08:29:49.888481",
     "status": "completed"
    },
    "tags": []
   },
   "source": [
    "**Decision Tree Regressor**"
   ]
  },
  {
   "cell_type": "code",
   "execution_count": 22,
   "id": "07780657",
   "metadata": {
    "execution": {
     "iopub.execute_input": "2025-04-17T08:29:49.922608Z",
     "iopub.status.busy": "2025-04-17T08:29:49.921632Z",
     "iopub.status.idle": "2025-04-17T08:29:50.093188Z",
     "shell.execute_reply": "2025-04-17T08:29:50.092298Z"
    },
    "papermill": {
     "duration": 0.185052,
     "end_time": "2025-04-17T08:29:50.094713",
     "exception": false,
     "start_time": "2025-04-17T08:29:49.909661",
     "status": "completed"
    },
    "tags": []
   },
   "outputs": [
    {
     "data": {
      "text/html": [
       "<style>#sk-container-id-2 {color: black;background-color: white;}#sk-container-id-2 pre{padding: 0;}#sk-container-id-2 div.sk-toggleable {background-color: white;}#sk-container-id-2 label.sk-toggleable__label {cursor: pointer;display: block;width: 100%;margin-bottom: 0;padding: 0.3em;box-sizing: border-box;text-align: center;}#sk-container-id-2 label.sk-toggleable__label-arrow:before {content: \"▸\";float: left;margin-right: 0.25em;color: #696969;}#sk-container-id-2 label.sk-toggleable__label-arrow:hover:before {color: black;}#sk-container-id-2 div.sk-estimator:hover label.sk-toggleable__label-arrow:before {color: black;}#sk-container-id-2 div.sk-toggleable__content {max-height: 0;max-width: 0;overflow: hidden;text-align: left;background-color: #f0f8ff;}#sk-container-id-2 div.sk-toggleable__content pre {margin: 0.2em;color: black;border-radius: 0.25em;background-color: #f0f8ff;}#sk-container-id-2 input.sk-toggleable__control:checked~div.sk-toggleable__content {max-height: 200px;max-width: 100%;overflow: auto;}#sk-container-id-2 input.sk-toggleable__control:checked~label.sk-toggleable__label-arrow:before {content: \"▾\";}#sk-container-id-2 div.sk-estimator input.sk-toggleable__control:checked~label.sk-toggleable__label {background-color: #d4ebff;}#sk-container-id-2 div.sk-label input.sk-toggleable__control:checked~label.sk-toggleable__label {background-color: #d4ebff;}#sk-container-id-2 input.sk-hidden--visually {border: 0;clip: rect(1px 1px 1px 1px);clip: rect(1px, 1px, 1px, 1px);height: 1px;margin: -1px;overflow: hidden;padding: 0;position: absolute;width: 1px;}#sk-container-id-2 div.sk-estimator {font-family: monospace;background-color: #f0f8ff;border: 1px dotted black;border-radius: 0.25em;box-sizing: border-box;margin-bottom: 0.5em;}#sk-container-id-2 div.sk-estimator:hover {background-color: #d4ebff;}#sk-container-id-2 div.sk-parallel-item::after {content: \"\";width: 100%;border-bottom: 1px solid gray;flex-grow: 1;}#sk-container-id-2 div.sk-label:hover label.sk-toggleable__label {background-color: #d4ebff;}#sk-container-id-2 div.sk-serial::before {content: \"\";position: absolute;border-left: 1px solid gray;box-sizing: border-box;top: 0;bottom: 0;left: 50%;z-index: 0;}#sk-container-id-2 div.sk-serial {display: flex;flex-direction: column;align-items: center;background-color: white;padding-right: 0.2em;padding-left: 0.2em;position: relative;}#sk-container-id-2 div.sk-item {position: relative;z-index: 1;}#sk-container-id-2 div.sk-parallel {display: flex;align-items: stretch;justify-content: center;background-color: white;position: relative;}#sk-container-id-2 div.sk-item::before, #sk-container-id-2 div.sk-parallel-item::before {content: \"\";position: absolute;border-left: 1px solid gray;box-sizing: border-box;top: 0;bottom: 0;left: 50%;z-index: -1;}#sk-container-id-2 div.sk-parallel-item {display: flex;flex-direction: column;z-index: 1;position: relative;background-color: white;}#sk-container-id-2 div.sk-parallel-item:first-child::after {align-self: flex-end;width: 50%;}#sk-container-id-2 div.sk-parallel-item:last-child::after {align-self: flex-start;width: 50%;}#sk-container-id-2 div.sk-parallel-item:only-child::after {width: 0;}#sk-container-id-2 div.sk-dashed-wrapped {border: 1px dashed gray;margin: 0 0.4em 0.5em 0.4em;box-sizing: border-box;padding-bottom: 0.4em;background-color: white;}#sk-container-id-2 div.sk-label label {font-family: monospace;font-weight: bold;display: inline-block;line-height: 1.2em;}#sk-container-id-2 div.sk-label-container {text-align: center;}#sk-container-id-2 div.sk-container {/* jupyter's `normalize.less` sets `[hidden] { display: none; }` but bootstrap.min.css set `[hidden] { display: none !important; }` so we also need the `!important` here to be able to override the default hidden behavior on the sphinx rendered scikit-learn.org. See: https://github.com/scikit-learn/scikit-learn/issues/21755 */display: inline-block !important;position: relative;}#sk-container-id-2 div.sk-text-repr-fallback {display: none;}</style><div id=\"sk-container-id-2\" class=\"sk-top-container\"><div class=\"sk-text-repr-fallback\"><pre>DecisionTreeRegressor(max_depth=3)</pre><b>In a Jupyter environment, please rerun this cell to show the HTML representation or trust the notebook. <br />On GitHub, the HTML representation is unable to render, please try loading this page with nbviewer.org.</b></div><div class=\"sk-container\" hidden><div class=\"sk-item\"><div class=\"sk-estimator sk-toggleable\"><input class=\"sk-toggleable__control sk-hidden--visually\" id=\"sk-estimator-id-2\" type=\"checkbox\" checked><label for=\"sk-estimator-id-2\" class=\"sk-toggleable__label sk-toggleable__label-arrow\">DecisionTreeRegressor</label><div class=\"sk-toggleable__content\"><pre>DecisionTreeRegressor(max_depth=3)</pre></div></div></div></div></div>"
      ],
      "text/plain": [
       "DecisionTreeRegressor(max_depth=3)"
      ]
     },
     "execution_count": 22,
     "metadata": {},
     "output_type": "execute_result"
    }
   ],
   "source": [
    "from sklearn.tree import DecisionTreeRegressor\n",
    "DTR = DecisionTreeRegressor(max_depth=3)\n",
    "DTR.fit(X_train,y_train)"
   ]
  },
  {
   "cell_type": "code",
   "execution_count": 23,
   "id": "79fdd6a5",
   "metadata": {
    "execution": {
     "iopub.execute_input": "2025-04-17T08:29:50.118435Z",
     "iopub.status.busy": "2025-04-17T08:29:50.117599Z",
     "iopub.status.idle": "2025-04-17T08:29:50.124955Z",
     "shell.execute_reply": "2025-04-17T08:29:50.124096Z"
    },
    "papermill": {
     "duration": 0.020685,
     "end_time": "2025-04-17T08:29:50.126407",
     "exception": false,
     "start_time": "2025-04-17T08:29:50.105722",
     "status": "completed"
    },
    "tags": []
   },
   "outputs": [
    {
     "name": "stdout",
     "output_type": "stream",
     "text": [
      "0.852028477136659\n"
     ]
    }
   ],
   "source": [
    "dec_score = DTR.score(X_train,y_train)\n",
    "print(dec_score)"
   ]
  },
  {
   "cell_type": "code",
   "execution_count": 24,
   "id": "3465579f",
   "metadata": {
    "execution": {
     "iopub.execute_input": "2025-04-17T08:29:50.150259Z",
     "iopub.status.busy": "2025-04-17T08:29:50.149626Z",
     "iopub.status.idle": "2025-04-17T08:29:50.157340Z",
     "shell.execute_reply": "2025-04-17T08:29:50.156513Z"
    },
    "papermill": {
     "duration": 0.021317,
     "end_time": "2025-04-17T08:29:50.158668",
     "exception": false,
     "start_time": "2025-04-17T08:29:50.137351",
     "status": "completed"
    },
    "tags": []
   },
   "outputs": [
    {
     "data": {
      "text/plain": [
       "0.8562523148155177"
      ]
     },
     "execution_count": 24,
     "metadata": {},
     "output_type": "execute_result"
    }
   ],
   "source": [
    "dtr_score = DTR.score(X_test,y_test)\n",
    "dtr_score"
   ]
  },
  {
   "cell_type": "markdown",
   "id": "52811d1a",
   "metadata": {
    "papermill": {
     "duration": 0.010777,
     "end_time": "2025-04-17T08:29:50.180497",
     "exception": false,
     "start_time": "2025-04-17T08:29:50.169720",
     "status": "completed"
    },
    "tags": []
   },
   "source": [
    "**RandomForest Regressor**"
   ]
  },
  {
   "cell_type": "code",
   "execution_count": 25,
   "id": "b1e65730",
   "metadata": {
    "execution": {
     "iopub.execute_input": "2025-04-17T08:29:50.203802Z",
     "iopub.status.busy": "2025-04-17T08:29:50.203208Z",
     "iopub.status.idle": "2025-04-17T08:29:50.338494Z",
     "shell.execute_reply": "2025-04-17T08:29:50.337669Z"
    },
    "papermill": {
     "duration": 0.148572,
     "end_time": "2025-04-17T08:29:50.339946",
     "exception": false,
     "start_time": "2025-04-17T08:29:50.191374",
     "status": "completed"
    },
    "tags": []
   },
   "outputs": [
    {
     "data": {
      "text/html": [
       "<style>#sk-container-id-3 {color: black;background-color: white;}#sk-container-id-3 pre{padding: 0;}#sk-container-id-3 div.sk-toggleable {background-color: white;}#sk-container-id-3 label.sk-toggleable__label {cursor: pointer;display: block;width: 100%;margin-bottom: 0;padding: 0.3em;box-sizing: border-box;text-align: center;}#sk-container-id-3 label.sk-toggleable__label-arrow:before {content: \"▸\";float: left;margin-right: 0.25em;color: #696969;}#sk-container-id-3 label.sk-toggleable__label-arrow:hover:before {color: black;}#sk-container-id-3 div.sk-estimator:hover label.sk-toggleable__label-arrow:before {color: black;}#sk-container-id-3 div.sk-toggleable__content {max-height: 0;max-width: 0;overflow: hidden;text-align: left;background-color: #f0f8ff;}#sk-container-id-3 div.sk-toggleable__content pre {margin: 0.2em;color: black;border-radius: 0.25em;background-color: #f0f8ff;}#sk-container-id-3 input.sk-toggleable__control:checked~div.sk-toggleable__content {max-height: 200px;max-width: 100%;overflow: auto;}#sk-container-id-3 input.sk-toggleable__control:checked~label.sk-toggleable__label-arrow:before {content: \"▾\";}#sk-container-id-3 div.sk-estimator input.sk-toggleable__control:checked~label.sk-toggleable__label {background-color: #d4ebff;}#sk-container-id-3 div.sk-label input.sk-toggleable__control:checked~label.sk-toggleable__label {background-color: #d4ebff;}#sk-container-id-3 input.sk-hidden--visually {border: 0;clip: rect(1px 1px 1px 1px);clip: rect(1px, 1px, 1px, 1px);height: 1px;margin: -1px;overflow: hidden;padding: 0;position: absolute;width: 1px;}#sk-container-id-3 div.sk-estimator {font-family: monospace;background-color: #f0f8ff;border: 1px dotted black;border-radius: 0.25em;box-sizing: border-box;margin-bottom: 0.5em;}#sk-container-id-3 div.sk-estimator:hover {background-color: #d4ebff;}#sk-container-id-3 div.sk-parallel-item::after {content: \"\";width: 100%;border-bottom: 1px solid gray;flex-grow: 1;}#sk-container-id-3 div.sk-label:hover label.sk-toggleable__label {background-color: #d4ebff;}#sk-container-id-3 div.sk-serial::before {content: \"\";position: absolute;border-left: 1px solid gray;box-sizing: border-box;top: 0;bottom: 0;left: 50%;z-index: 0;}#sk-container-id-3 div.sk-serial {display: flex;flex-direction: column;align-items: center;background-color: white;padding-right: 0.2em;padding-left: 0.2em;position: relative;}#sk-container-id-3 div.sk-item {position: relative;z-index: 1;}#sk-container-id-3 div.sk-parallel {display: flex;align-items: stretch;justify-content: center;background-color: white;position: relative;}#sk-container-id-3 div.sk-item::before, #sk-container-id-3 div.sk-parallel-item::before {content: \"\";position: absolute;border-left: 1px solid gray;box-sizing: border-box;top: 0;bottom: 0;left: 50%;z-index: -1;}#sk-container-id-3 div.sk-parallel-item {display: flex;flex-direction: column;z-index: 1;position: relative;background-color: white;}#sk-container-id-3 div.sk-parallel-item:first-child::after {align-self: flex-end;width: 50%;}#sk-container-id-3 div.sk-parallel-item:last-child::after {align-self: flex-start;width: 50%;}#sk-container-id-3 div.sk-parallel-item:only-child::after {width: 0;}#sk-container-id-3 div.sk-dashed-wrapped {border: 1px dashed gray;margin: 0 0.4em 0.5em 0.4em;box-sizing: border-box;padding-bottom: 0.4em;background-color: white;}#sk-container-id-3 div.sk-label label {font-family: monospace;font-weight: bold;display: inline-block;line-height: 1.2em;}#sk-container-id-3 div.sk-label-container {text-align: center;}#sk-container-id-3 div.sk-container {/* jupyter's `normalize.less` sets `[hidden] { display: none; }` but bootstrap.min.css set `[hidden] { display: none !important; }` so we also need the `!important` here to be able to override the default hidden behavior on the sphinx rendered scikit-learn.org. See: https://github.com/scikit-learn/scikit-learn/issues/21755 */display: inline-block !important;position: relative;}#sk-container-id-3 div.sk-text-repr-fallback {display: none;}</style><div id=\"sk-container-id-3\" class=\"sk-top-container\"><div class=\"sk-text-repr-fallback\"><pre>RandomForestRegressor(n_estimators=5, random_state=0)</pre><b>In a Jupyter environment, please rerun this cell to show the HTML representation or trust the notebook. <br />On GitHub, the HTML representation is unable to render, please try loading this page with nbviewer.org.</b></div><div class=\"sk-container\" hidden><div class=\"sk-item\"><div class=\"sk-estimator sk-toggleable\"><input class=\"sk-toggleable__control sk-hidden--visually\" id=\"sk-estimator-id-3\" type=\"checkbox\" checked><label for=\"sk-estimator-id-3\" class=\"sk-toggleable__label sk-toggleable__label-arrow\">RandomForestRegressor</label><div class=\"sk-toggleable__content\"><pre>RandomForestRegressor(n_estimators=5, random_state=0)</pre></div></div></div></div></div>"
      ],
      "text/plain": [
       "RandomForestRegressor(n_estimators=5, random_state=0)"
      ]
     },
     "execution_count": 25,
     "metadata": {},
     "output_type": "execute_result"
    }
   ],
   "source": [
    "from sklearn.ensemble import RandomForestRegressor\n",
    "RF = RandomForestRegressor(n_estimators=5,random_state=0)\n",
    "RF.fit(X_train,y_train)"
   ]
  },
  {
   "cell_type": "code",
   "execution_count": 26,
   "id": "cf9e55a6",
   "metadata": {
    "execution": {
     "iopub.execute_input": "2025-04-17T08:29:50.414646Z",
     "iopub.status.busy": "2025-04-17T08:29:50.414350Z",
     "iopub.status.idle": "2025-04-17T08:29:50.421961Z",
     "shell.execute_reply": "2025-04-17T08:29:50.421178Z"
    },
    "papermill": {
     "duration": 0.07201,
     "end_time": "2025-04-17T08:29:50.423303",
     "exception": false,
     "start_time": "2025-04-17T08:29:50.351293",
     "status": "completed"
    },
    "tags": []
   },
   "outputs": [
    {
     "name": "stdout",
     "output_type": "stream",
     "text": [
      "0.9953663857221627\n"
     ]
    }
   ],
   "source": [
    "rf = RF.score(X_train,y_train)\n",
    "print(rf)"
   ]
  },
  {
   "cell_type": "code",
   "execution_count": 27,
   "id": "17e1fe42",
   "metadata": {
    "execution": {
     "iopub.execute_input": "2025-04-17T08:29:50.447574Z",
     "iopub.status.busy": "2025-04-17T08:29:50.447275Z",
     "iopub.status.idle": "2025-04-17T08:29:50.455903Z",
     "shell.execute_reply": "2025-04-17T08:29:50.455090Z"
    },
    "papermill": {
     "duration": 0.022777,
     "end_time": "2025-04-17T08:29:50.457269",
     "exception": false,
     "start_time": "2025-04-17T08:29:50.434492",
     "status": "completed"
    },
    "tags": []
   },
   "outputs": [
    {
     "data": {
      "text/plain": [
       "0.9703410526597368"
      ]
     },
     "execution_count": 27,
     "metadata": {},
     "output_type": "execute_result"
    }
   ],
   "source": [
    "rf_score = RF.score(X_test,y_test)\n",
    "rf_score"
   ]
  },
  {
   "cell_type": "code",
   "execution_count": 28,
   "id": "7c88c368",
   "metadata": {
    "execution": {
     "iopub.execute_input": "2025-04-17T08:29:50.481471Z",
     "iopub.status.busy": "2025-04-17T08:29:50.480873Z",
     "iopub.status.idle": "2025-04-17T08:29:50.485700Z",
     "shell.execute_reply": "2025-04-17T08:29:50.484846Z"
    },
    "papermill": {
     "duration": 0.018341,
     "end_time": "2025-04-17T08:29:50.487074",
     "exception": false,
     "start_time": "2025-04-17T08:29:50.468733",
     "status": "completed"
    },
    "tags": []
   },
   "outputs": [],
   "source": [
    "mylist=[]\n",
    "mylist2=[]\n",
    "mylist.append(r2)\n",
    "mylist2.append(\"LinearRegression\")\n",
    "mylist.append(dtr_score)\n",
    "mylist2.append(\"Decision Tree Regressor\")\n",
    "mylist.append(rf_score)\n",
    "mylist2.append(\"RandomForest Regressor\")"
   ]
  },
  {
   "cell_type": "code",
   "execution_count": 29,
   "id": "7d65fb28",
   "metadata": {
    "execution": {
     "iopub.execute_input": "2025-04-17T08:29:50.511482Z",
     "iopub.status.busy": "2025-04-17T08:29:50.510731Z",
     "iopub.status.idle": "2025-04-17T08:29:50.731221Z",
     "shell.execute_reply": "2025-04-17T08:29:50.730263Z"
    },
    "papermill": {
     "duration": 0.234208,
     "end_time": "2025-04-17T08:29:50.732787",
     "exception": false,
     "start_time": "2025-04-17T08:29:50.498579",
     "status": "completed"
    },
    "tags": []
   },
   "outputs": [
    {
     "name": "stderr",
     "output_type": "stream",
     "text": [
      "/usr/local/lib/python3.11/dist-packages/seaborn/_oldcore.py:1765: FutureWarning: unique with argument that is not not a Series, Index, ExtensionArray, or np.ndarray is deprecated and will raise in a future version.\n",
      "  order = pd.unique(vector)\n"
     ]
    },
    {
     "data": {
      "image/png": "[encoded data removed]",
      "text/plain": [
       "<Figure size 800x600 with 1 Axes>"
      ]
     },
     "metadata": {},
     "output_type": "display_data"
    }
   ],
   "source": [
    "plt.rcParams['figure.figsize']=8,6\n",
    "sns.set_style(\"darkgrid\")\n",
    "ax = sns.barplot(x=mylist2, y=mylist, palette = \"rocket\", saturation =1.5)\n",
    "plt.xlabel(\"Regressor Models\", fontsize = 20 )\n",
    "plt.ylabel(\"Accuracy\", fontsize = 20)\n",
    "plt.title(\"Accuracy of different Regreesor Models\", fontsize = 20)\n",
    "plt.xticks(fontsize = 11, horizontalalignment = 'center', rotation = 8)\n",
    "plt.yticks(fontsize = 13)\n",
    "for p in ax.patches:\n",
    "    width, height = p.get_width(), p.get_height()\n",
    "    x, y = p.get_xy() \n",
    "    ax.annotate(f'{height:.2%}', (x + width/2, y + height*1.02), ha='center', fontsize = 'x-large')\n",
    "plt.show()\n"
   ]
  },
  {
   "cell_type": "code",
   "execution_count": null,
   "id": "5ed79b20",
   "metadata": {
    "papermill": {
     "duration": 0.012368,
     "end_time": "2025-04-17T08:29:50.758622",
     "exception": false,
     "start_time": "2025-04-17T08:29:50.746254",
     "status": "completed"
    },
    "tags": []
   },
   "outputs": [],
   "source": []
  }
 ],
 "metadata": {
  "kaggle": {
   "accelerator": "none",
   "dataSources": [
    {
     "datasetId": 6951326,
     "sourceId": 11143507,
     "sourceType": "datasetVersion"
    }
   ],
   "dockerImageVersionId": 31012,
   "isGpuEnabled": false,
   "isInternetEnabled": true,
   "language": "python",
   "sourceType": "notebook"
  },
  "kernelspec": {
   "display_name": "Python 3",
   "language": "python",
   "name": "python3"
  },
  "language_info": {
   "codemirror_mode": {
    "name": "ipython",
    "version": 3
   },
   "file_extension": ".py",
   "mimetype": "text/x-python",
   "name": "python",
   "nbconvert_exporter": "python",
   "pygments_lexer": "ipython3",
   "version": "3.11.11"
  },
  "papermill": {
   "default_parameters": {},
   "duration": 12.385057,
   "end_time": "2025-04-17T08:29:51.390172",
   "environment_variables": {},
   "exception": null,
   "input_path": "__notebook__.ipynb",
   "output_path": "__notebook__.ipynb",
   "parameters": {},
   "start_time": "2025-04-17T08:29:39.005115",
   "version": "2.6.0"
  }
 },
 "nbformat": 4,
 "nbformat_minor": 5
}
