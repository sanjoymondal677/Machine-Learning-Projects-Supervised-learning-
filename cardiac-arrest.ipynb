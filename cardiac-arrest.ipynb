{
 "cells": [
  {
   "cell_type": "code",
   "execution_count": 1,
   "id": "4810f28c",
   "metadata": {
    "_cell_guid": "b1076dfc-b9ad-4769-8c92-a6c4dae69d19",
    "_uuid": "8f2839f25d086af736a60e9eeb907d3b93b6e0e5",
    "execution": {
     "iopub.execute_input": "2025-07-15T05:25:28.155273Z",
     "iopub.status.busy": "2025-07-15T05:25:28.154964Z",
     "iopub.status.idle": "2025-07-15T05:25:31.754205Z",
     "shell.execute_reply": "2025-07-15T05:25:31.753311Z"
    },
    "papermill": {
     "duration": 3.60838,
     "end_time": "2025-07-15T05:25:31.756029",
     "exception": false,
     "start_time": "2025-07-15T05:25:28.147649",
     "status": "completed"
    },
    "tags": []
   },
   "outputs": [],
   "source": [
    "import pandas as pd\n",
    "import numpy as np\n",
    "import seaborn as sns\n",
    "import matplotlib.pyplot as plt"
   ]
  },
  {
   "cell_type": "code",
   "execution_count": 2,
   "id": "d26f8cf3",
   "metadata": {
    "execution": {
     "iopub.execute_input": "2025-07-15T05:25:31.768846Z",
     "iopub.status.busy": "2025-07-15T05:25:31.768046Z",
     "iopub.status.idle": "2025-07-15T05:25:31.791455Z",
     "shell.execute_reply": "2025-07-15T05:25:31.790712Z"
    },
    "papermill": {
     "duration": 0.031043,
     "end_time": "2025-07-15T05:25:31.792917",
     "exception": false,
     "start_time": "2025-07-15T05:25:31.761874",
     "status": "completed"
    },
    "tags": []
   },
   "outputs": [],
   "source": [
    "data = pd.read_csv(\"/kaggle/input/cardiac-arrest-dataset/cardiac arrest dataset.csv\")"
   ]
  },
  {
   "cell_type": "code",
   "execution_count": 3,
   "id": "42e940cf",
   "metadata": {
    "execution": {
     "iopub.execute_input": "2025-07-15T05:25:31.805157Z",
     "iopub.status.busy": "2025-07-15T05:25:31.804891Z",
     "iopub.status.idle": "2025-07-15T05:25:31.832019Z",
     "shell.execute_reply": "2025-07-15T05:25:31.831170Z"
    },
    "papermill": {
     "duration": 0.034951,
     "end_time": "2025-07-15T05:25:31.833414",
     "exception": false,
     "start_time": "2025-07-15T05:25:31.798463",
     "status": "completed"
    },
    "tags": []
   },
   "outputs": [
    {
     "data": {
      "text/html": [
       "<div>\n",
       "<style scoped>\n",
       "    .dataframe tbody tr th:only-of-type {\n",
       "        vertical-align: middle;\n",
       "    }\n",
       "\n",
       "    .dataframe tbody tr th {\n",
       "        vertical-align: top;\n",
       "    }\n",
       "\n",
       "    .dataframe thead th {\n",
       "        text-align: right;\n",
       "    }\n",
       "</style>\n",
       "<table border=\"1\" class=\"dataframe\">\n",
       "  <thead>\n",
       "    <tr style=\"text-align: right;\">\n",
       "      <th></th>\n",
       "      <th>age</th>\n",
       "      <th>sex</th>\n",
       "      <th>cp</th>\n",
       "      <th>trestbps</th>\n",
       "      <th>chol</th>\n",
       "      <th>fbs</th>\n",
       "      <th>restecg</th>\n",
       "      <th>thalach</th>\n",
       "      <th>exang</th>\n",
       "      <th>oldpeak</th>\n",
       "      <th>slope</th>\n",
       "      <th>ca</th>\n",
       "      <th>thal</th>\n",
       "      <th>target</th>\n",
       "    </tr>\n",
       "  </thead>\n",
       "  <tbody>\n",
       "    <tr>\n",
       "      <th>0</th>\n",
       "      <td>52</td>\n",
       "      <td>1</td>\n",
       "      <td>0</td>\n",
       "      <td>125</td>\n",
       "      <td>212</td>\n",
       "      <td>0</td>\n",
       "      <td>1</td>\n",
       "      <td>168</td>\n",
       "      <td>0</td>\n",
       "      <td>1.0</td>\n",
       "      <td>2</td>\n",
       "      <td>2</td>\n",
       "      <td>3</td>\n",
       "      <td>0</td>\n",
       "    </tr>\n",
       "    <tr>\n",
       "      <th>1</th>\n",
       "      <td>53</td>\n",
       "      <td>1</td>\n",
       "      <td>0</td>\n",
       "      <td>140</td>\n",
       "      <td>203</td>\n",
       "      <td>1</td>\n",
       "      <td>0</td>\n",
       "      <td>155</td>\n",
       "      <td>1</td>\n",
       "      <td>3.1</td>\n",
       "      <td>0</td>\n",
       "      <td>0</td>\n",
       "      <td>3</td>\n",
       "      <td>0</td>\n",
       "    </tr>\n",
       "    <tr>\n",
       "      <th>2</th>\n",
       "      <td>70</td>\n",
       "      <td>1</td>\n",
       "      <td>0</td>\n",
       "      <td>145</td>\n",
       "      <td>174</td>\n",
       "      <td>0</td>\n",
       "      <td>1</td>\n",
       "      <td>125</td>\n",
       "      <td>1</td>\n",
       "      <td>2.6</td>\n",
       "      <td>0</td>\n",
       "      <td>0</td>\n",
       "      <td>3</td>\n",
       "      <td>0</td>\n",
       "    </tr>\n",
       "    <tr>\n",
       "      <th>3</th>\n",
       "      <td>61</td>\n",
       "      <td>1</td>\n",
       "      <td>0</td>\n",
       "      <td>148</td>\n",
       "      <td>203</td>\n",
       "      <td>0</td>\n",
       "      <td>1</td>\n",
       "      <td>161</td>\n",
       "      <td>0</td>\n",
       "      <td>0.0</td>\n",
       "      <td>2</td>\n",
       "      <td>1</td>\n",
       "      <td>3</td>\n",
       "      <td>0</td>\n",
       "    </tr>\n",
       "    <tr>\n",
       "      <th>4</th>\n",
       "      <td>62</td>\n",
       "      <td>0</td>\n",
       "      <td>0</td>\n",
       "      <td>138</td>\n",
       "      <td>294</td>\n",
       "      <td>1</td>\n",
       "      <td>1</td>\n",
       "      <td>106</td>\n",
       "      <td>0</td>\n",
       "      <td>1.9</td>\n",
       "      <td>1</td>\n",
       "      <td>3</td>\n",
       "      <td>2</td>\n",
       "      <td>0</td>\n",
       "    </tr>\n",
       "  </tbody>\n",
       "</table>\n",
       "</div>"
      ],
      "text/plain": [
       "   age  sex  cp  trestbps  chol  fbs  restecg  thalach  exang  oldpeak  slope  \\\n",
       "0   52    1   0       125   212    0        1      168      0      1.0      2   \n",
       "1   53    1   0       140   203    1        0      155      1      3.1      0   \n",
       "2   70    1   0       145   174    0        1      125      1      2.6      0   \n",
       "3   61    1   0       148   203    0        1      161      0      0.0      2   \n",
       "4   62    0   0       138   294    1        1      106      0      1.9      1   \n",
       "\n",
       "   ca  thal  target  \n",
       "0   2     3       0  \n",
       "1   0     3       0  \n",
       "2   0     3       0  \n",
       "3   1     3       0  \n",
       "4   3     2       0  "
      ]
     },
     "execution_count": 3,
     "metadata": {},
     "output_type": "execute_result"
    }
   ],
   "source": [
    "data.head()"
   ]
  },
  {
   "cell_type": "code",
   "execution_count": 4,
   "id": "3696a726",
   "metadata": {
    "execution": {
     "iopub.execute_input": "2025-07-15T05:25:31.845609Z",
     "iopub.status.busy": "2025-07-15T05:25:31.845287Z",
     "iopub.status.idle": "2025-07-15T05:25:31.867812Z",
     "shell.execute_reply": "2025-07-15T05:25:31.866840Z"
    },
    "papermill": {
     "duration": 0.030085,
     "end_time": "2025-07-15T05:25:31.869195",
     "exception": false,
     "start_time": "2025-07-15T05:25:31.839110",
     "status": "completed"
    },
    "tags": []
   },
   "outputs": [
    {
     "name": "stdout",
     "output_type": "stream",
     "text": [
      "<class 'pandas.core.frame.DataFrame'>\n",
      "RangeIndex: 1025 entries, 0 to 1024\n",
      "Data columns (total 14 columns):\n",
      " #   Column    Non-Null Count  Dtype  \n",
      "---  ------    --------------  -----  \n",
      " 0   age       1025 non-null   int64  \n",
      " 1   sex       1025 non-null   int64  \n",
      " 2   cp        1025 non-null   int64  \n",
      " 3   trestbps  1025 non-null   int64  \n",
      " 4   chol      1025 non-null   int64  \n",
      " 5   fbs       1025 non-null   int64  \n",
      " 6   restecg   1025 non-null   int64  \n",
      " 7   thalach   1025 non-null   int64  \n",
      " 8   exang     1025 non-null   int64  \n",
      " 9   oldpeak   1025 non-null   float64\n",
      " 10  slope     1025 non-null   int64  \n",
      " 11  ca        1025 non-null   int64  \n",
      " 12  thal      1025 non-null   int64  \n",
      " 13  target    1025 non-null   int64  \n",
      "dtypes: float64(1), int64(13)\n",
      "memory usage: 112.2 KB\n"
     ]
    }
   ],
   "source": [
    "data.info()"
   ]
  },
  {
   "cell_type": "code",
   "execution_count": 5,
   "id": "4a4b889b",
   "metadata": {
    "execution": {
     "iopub.execute_input": "2025-07-15T05:25:31.881453Z",
     "iopub.status.busy": "2025-07-15T05:25:31.881136Z",
     "iopub.status.idle": "2025-07-15T05:25:31.888099Z",
     "shell.execute_reply": "2025-07-15T05:25:31.887358Z"
    },
    "papermill": {
     "duration": 0.01442,
     "end_time": "2025-07-15T05:25:31.889344",
     "exception": false,
     "start_time": "2025-07-15T05:25:31.874924",
     "status": "completed"
    },
    "tags": []
   },
   "outputs": [
    {
     "data": {
      "text/plain": [
       "age         0\n",
       "sex         0\n",
       "cp          0\n",
       "trestbps    0\n",
       "chol        0\n",
       "fbs         0\n",
       "restecg     0\n",
       "thalach     0\n",
       "exang       0\n",
       "oldpeak     0\n",
       "slope       0\n",
       "ca          0\n",
       "thal        0\n",
       "target      0\n",
       "dtype: int64"
      ]
     },
     "execution_count": 5,
     "metadata": {},
     "output_type": "execute_result"
    }
   ],
   "source": [
    "data.isnull().sum()"
   ]
  },
  {
   "cell_type": "code",
   "execution_count": 6,
   "id": "c6d09279",
   "metadata": {
    "execution": {
     "iopub.execute_input": "2025-07-15T05:25:31.901733Z",
     "iopub.status.busy": "2025-07-15T05:25:31.901216Z",
     "iopub.status.idle": "2025-07-15T05:25:31.911363Z",
     "shell.execute_reply": "2025-07-15T05:25:31.910554Z"
    },
    "papermill": {
     "duration": 0.017611,
     "end_time": "2025-07-15T05:25:31.912575",
     "exception": false,
     "start_time": "2025-07-15T05:25:31.894964",
     "status": "completed"
    },
    "tags": []
   },
   "outputs": [
    {
     "data": {
      "text/plain": [
       "age          41\n",
       "sex           2\n",
       "cp            4\n",
       "trestbps     49\n",
       "chol        152\n",
       "fbs           2\n",
       "restecg       3\n",
       "thalach      91\n",
       "exang         2\n",
       "oldpeak      40\n",
       "slope         3\n",
       "ca            5\n",
       "thal          4\n",
       "target        2\n",
       "dtype: int64"
      ]
     },
     "execution_count": 6,
     "metadata": {},
     "output_type": "execute_result"
    }
   ],
   "source": [
    "data.nunique()"
   ]
  },
  {
   "cell_type": "code",
   "execution_count": 7,
   "id": "68f45f2c",
   "metadata": {
    "execution": {
     "iopub.execute_input": "2025-07-15T05:25:31.925577Z",
     "iopub.status.busy": "2025-07-15T05:25:31.925282Z",
     "iopub.status.idle": "2025-07-15T05:25:32.317461Z",
     "shell.execute_reply": "2025-07-15T05:25:32.316607Z"
    },
    "papermill": {
     "duration": 0.399985,
     "end_time": "2025-07-15T05:25:32.318958",
     "exception": false,
     "start_time": "2025-07-15T05:25:31.918973",
     "status": "completed"
    },
    "tags": []
   },
   "outputs": [
    {
     "name": "stderr",
     "output_type": "stream",
     "text": [
      "/tmp/ipykernel_13/467714352.py:1: UserWarning: \n",
      "\n",
      "`distplot` is a deprecated function and will be removed in seaborn v0.14.0.\n",
      "\n",
      "Please adapt your code to use either `displot` (a figure-level function with\n",
      "similar flexibility) or `histplot` (an axes-level function for histograms).\n",
      "\n",
      "For a guide to updating your code to use the new functions, please see\n",
      "https://gist.github.com/mwaskom/de44147ed2974457ad6372750bbe5751\n",
      "\n",
      "  sns.distplot(data['age'])\n",
      "/usr/local/lib/python3.11/dist-packages/seaborn/_oldcore.py:1119: FutureWarning: use_inf_as_na option is deprecated and will be removed in a future version. Convert inf values to NaN before operating instead.\n",
      "  with pd.option_context('mode.use_inf_as_na', True):\n"
     ]
    },
    {
     "data": {
      "image/png": "[encoded data removed]",
      "text/plain": [
       "<Figure size 640x480 with 1 Axes>"
      ]
     },
     "metadata": {},
     "output_type": "display_data"
    }
   ],
   "source": [
    "sns.distplot(data['age'])\n",
    "plt.show()\n"
   ]
  },
  {
   "cell_type": "code",
   "execution_count": 8,
   "id": "1be35433",
   "metadata": {
    "execution": {
     "iopub.execute_input": "2025-07-15T05:25:32.333497Z",
     "iopub.status.busy": "2025-07-15T05:25:32.332830Z",
     "iopub.status.idle": "2025-07-15T05:25:32.455096Z",
     "shell.execute_reply": "2025-07-15T05:25:32.454242Z"
    },
    "papermill": {
     "duration": 0.131042,
     "end_time": "2025-07-15T05:25:32.456655",
     "exception": false,
     "start_time": "2025-07-15T05:25:32.325613",
     "status": "completed"
    },
    "tags": []
   },
   "outputs": [
    {
     "data": {
      "image/png": "[encoded data removed]",
      "text/plain": [
       "<Figure size 1000x800 with 1 Axes>"
      ]
     },
     "metadata": {},
     "output_type": "display_data"
    }
   ],
   "source": [
    "plt.figure(figsize=(10,8))\n",
    "sns.countplot(x = 'target',data =data,palette = 'viridis')\n",
    "plt.xlabel(\"Target\",fontweight = 'bold',size=16)\n",
    "plt.show()"
   ]
  },
  {
   "cell_type": "code",
   "execution_count": 9,
   "id": "9eeca3fa",
   "metadata": {
    "execution": {
     "iopub.execute_input": "2025-07-15T05:25:32.472174Z",
     "iopub.status.busy": "2025-07-15T05:25:32.471853Z",
     "iopub.status.idle": "2025-07-15T05:25:32.753723Z",
     "shell.execute_reply": "2025-07-15T05:25:32.752908Z"
    },
    "papermill": {
     "duration": 0.291064,
     "end_time": "2025-07-15T05:25:32.755035",
     "exception": false,
     "start_time": "2025-07-15T05:25:32.463971",
     "status": "completed"
    },
    "tags": []
   },
   "outputs": [
    {
     "data": {
      "text/plain": [
       "((717, 13), (308, 13))"
      ]
     },
     "execution_count": 9,
     "metadata": {},
     "output_type": "execute_result"
    }
   ],
   "source": [
    "# separate train and test sets\n",
    "from sklearn.model_selection import train_test_split\n",
    "X_train, X_test, y_train, y_test = train_test_split(\n",
    "    data.drop('target',axis=1),\n",
    "    data['target'],\n",
    "    test_size=0.3,\n",
    "    random_state=0)\n",
    "\n",
    "X_train.shape, X_test.shape"
   ]
  },
  {
   "cell_type": "code",
   "execution_count": 10,
   "id": "500e886d",
   "metadata": {
    "execution": {
     "iopub.execute_input": "2025-07-15T05:25:32.769591Z",
     "iopub.status.busy": "2025-07-15T05:25:32.769252Z",
     "iopub.status.idle": "2025-07-15T05:25:32.776235Z",
     "shell.execute_reply": "2025-07-15T05:25:32.775573Z"
    },
    "papermill": {
     "duration": 0.015765,
     "end_time": "2025-07-15T05:25:32.777516",
     "exception": false,
     "start_time": "2025-07-15T05:25:32.761751",
     "status": "completed"
    },
    "tags": []
   },
   "outputs": [
    {
     "data": {
      "text/plain": [
       "age         0\n",
       "sex         0\n",
       "cp          0\n",
       "trestbps    0\n",
       "chol        0\n",
       "fbs         0\n",
       "restecg     0\n",
       "thalach     0\n",
       "exang       0\n",
       "oldpeak     0\n",
       "slope       0\n",
       "ca          0\n",
       "thal        0\n",
       "dtype: int64"
      ]
     },
     "execution_count": 10,
     "metadata": {},
     "output_type": "execute_result"
    }
   ],
   "source": [
    "X_train.isnull().sum()"
   ]
  },
  {
   "cell_type": "code",
   "execution_count": 11,
   "id": "ed325466",
   "metadata": {
    "execution": {
     "iopub.execute_input": "2025-07-15T05:25:32.791999Z",
     "iopub.status.busy": "2025-07-15T05:25:32.791690Z",
     "iopub.status.idle": "2025-07-15T05:25:32.797130Z",
     "shell.execute_reply": "2025-07-15T05:25:32.796509Z"
    },
    "papermill": {
     "duration": 0.014168,
     "end_time": "2025-07-15T05:25:32.798352",
     "exception": false,
     "start_time": "2025-07-15T05:25:32.784184",
     "status": "completed"
    },
    "tags": []
   },
   "outputs": [
    {
     "data": {
      "text/plain": [
       "0"
      ]
     },
     "execution_count": 11,
     "metadata": {},
     "output_type": "execute_result"
    }
   ],
   "source": [
    "y_train.isnull().sum()"
   ]
  },
  {
   "cell_type": "code",
   "execution_count": 12,
   "id": "9e3beb19",
   "metadata": {
    "execution": {
     "iopub.execute_input": "2025-07-15T05:25:32.813072Z",
     "iopub.status.busy": "2025-07-15T05:25:32.812652Z",
     "iopub.status.idle": "2025-07-15T05:25:32.835889Z",
     "shell.execute_reply": "2025-07-15T05:25:32.835074Z"
    },
    "papermill": {
     "duration": 0.032147,
     "end_time": "2025-07-15T05:25:32.837341",
     "exception": false,
     "start_time": "2025-07-15T05:25:32.805194",
     "status": "completed"
    },
    "tags": []
   },
   "outputs": [],
   "source": [
    "from sklearn.preprocessing import StandardScaler\n",
    "sc = StandardScaler()\n",
    "X_train = sc.fit_transform(X_train)\n",
    "X_test = sc.transform(X_test)"
   ]
  },
  {
   "cell_type": "code",
   "execution_count": 13,
   "id": "b971302d",
   "metadata": {
    "execution": {
     "iopub.execute_input": "2025-07-15T05:25:32.852149Z",
     "iopub.status.busy": "2025-07-15T05:25:32.851880Z",
     "iopub.status.idle": "2025-07-15T05:25:33.035852Z",
     "shell.execute_reply": "2025-07-15T05:25:33.035033Z"
    },
    "papermill": {
     "duration": 0.193338,
     "end_time": "2025-07-15T05:25:33.037641",
     "exception": false,
     "start_time": "2025-07-15T05:25:32.844303",
     "status": "completed"
    },
    "tags": []
   },
   "outputs": [
    {
     "data": {
      "text/html": [
       "<style>#sk-container-id-1 {color: black;background-color: white;}#sk-container-id-1 pre{padding: 0;}#sk-container-id-1 div.sk-toggleable {background-color: white;}#sk-container-id-1 label.sk-toggleable__label {cursor: pointer;display: block;width: 100%;margin-bottom: 0;padding: 0.3em;box-sizing: border-box;text-align: center;}#sk-container-id-1 label.sk-toggleable__label-arrow:before {content: \"▸\";float: left;margin-right: 0.25em;color: #696969;}#sk-container-id-1 label.sk-toggleable__label-arrow:hover:before {color: black;}#sk-container-id-1 div.sk-estimator:hover label.sk-toggleable__label-arrow:before {color: black;}#sk-container-id-1 div.sk-toggleable__content {max-height: 0;max-width: 0;overflow: hidden;text-align: left;background-color: #f0f8ff;}#sk-container-id-1 div.sk-toggleable__content pre {margin: 0.2em;color: black;border-radius: 0.25em;background-color: #f0f8ff;}#sk-container-id-1 input.sk-toggleable__control:checked~div.sk-toggleable__content {max-height: 200px;max-width: 100%;overflow: auto;}#sk-container-id-1 input.sk-toggleable__control:checked~label.sk-toggleable__label-arrow:before {content: \"▾\";}#sk-container-id-1 div.sk-estimator input.sk-toggleable__control:checked~label.sk-toggleable__label {background-color: #d4ebff;}#sk-container-id-1 div.sk-label input.sk-toggleable__control:checked~label.sk-toggleable__label {background-color: #d4ebff;}#sk-container-id-1 input.sk-hidden--visually {border: 0;clip: rect(1px 1px 1px 1px);clip: rect(1px, 1px, 1px, 1px);height: 1px;margin: -1px;overflow: hidden;padding: 0;position: absolute;width: 1px;}#sk-container-id-1 div.sk-estimator {font-family: monospace;background-color: #f0f8ff;border: 1px dotted black;border-radius: 0.25em;box-sizing: border-box;margin-bottom: 0.5em;}#sk-container-id-1 div.sk-estimator:hover {background-color: #d4ebff;}#sk-container-id-1 div.sk-parallel-item::after {content: \"\";width: 100%;border-bottom: 1px solid gray;flex-grow: 1;}#sk-container-id-1 div.sk-label:hover label.sk-toggleable__label {background-color: #d4ebff;}#sk-container-id-1 div.sk-serial::before {content: \"\";position: absolute;border-left: 1px solid gray;box-sizing: border-box;top: 0;bottom: 0;left: 50%;z-index: 0;}#sk-container-id-1 div.sk-serial {display: flex;flex-direction: column;align-items: center;background-color: white;padding-right: 0.2em;padding-left: 0.2em;position: relative;}#sk-container-id-1 div.sk-item {position: relative;z-index: 1;}#sk-container-id-1 div.sk-parallel {display: flex;align-items: stretch;justify-content: center;background-color: white;position: relative;}#sk-container-id-1 div.sk-item::before, #sk-container-id-1 div.sk-parallel-item::before {content: \"\";position: absolute;border-left: 1px solid gray;box-sizing: border-box;top: 0;bottom: 0;left: 50%;z-index: -1;}#sk-container-id-1 div.sk-parallel-item {display: flex;flex-direction: column;z-index: 1;position: relative;background-color: white;}#sk-container-id-1 div.sk-parallel-item:first-child::after {align-self: flex-end;width: 50%;}#sk-container-id-1 div.sk-parallel-item:last-child::after {align-self: flex-start;width: 50%;}#sk-container-id-1 div.sk-parallel-item:only-child::after {width: 0;}#sk-container-id-1 div.sk-dashed-wrapped {border: 1px dashed gray;margin: 0 0.4em 0.5em 0.4em;box-sizing: border-box;padding-bottom: 0.4em;background-color: white;}#sk-container-id-1 div.sk-label label {font-family: monospace;font-weight: bold;display: inline-block;line-height: 1.2em;}#sk-container-id-1 div.sk-label-container {text-align: center;}#sk-container-id-1 div.sk-container {/* jupyter's `normalize.less` sets `[hidden] { display: none; }` but bootstrap.min.css set `[hidden] { display: none !important; }` so we also need the `!important` here to be able to override the default hidden behavior on the sphinx rendered scikit-learn.org. See: https://github.com/scikit-learn/scikit-learn/issues/21755 */display: inline-block !important;position: relative;}#sk-container-id-1 div.sk-text-repr-fallback {display: none;}</style><div id=\"sk-container-id-1\" class=\"sk-top-container\"><div class=\"sk-text-repr-fallback\"><pre>LogisticRegression(random_state=0)</pre><b>In a Jupyter environment, please rerun this cell to show the HTML representation or trust the notebook. <br />On GitHub, the HTML representation is unable to render, please try loading this page with nbviewer.org.</b></div><div class=\"sk-container\" hidden><div class=\"sk-item\"><div class=\"sk-estimator sk-toggleable\"><input class=\"sk-toggleable__control sk-hidden--visually\" id=\"sk-estimator-id-1\" type=\"checkbox\" checked><label for=\"sk-estimator-id-1\" class=\"sk-toggleable__label sk-toggleable__label-arrow\">LogisticRegression</label><div class=\"sk-toggleable__content\"><pre>LogisticRegression(random_state=0)</pre></div></div></div></div></div>"
      ],
      "text/plain": [
       "LogisticRegression(random_state=0)"
      ]
     },
     "execution_count": 13,
     "metadata": {},
     "output_type": "execute_result"
    }
   ],
   "source": [
    "##Logistic Regression\n",
    "from sklearn.linear_model import LogisticRegression\n",
    "classifier = LogisticRegression(random_state = 0)\n",
    "classifier.fit(X_train, y_train)"
   ]
  },
  {
   "cell_type": "code",
   "execution_count": 14,
   "id": "b34896bd",
   "metadata": {
    "execution": {
     "iopub.execute_input": "2025-07-15T05:25:33.062444Z",
     "iopub.status.busy": "2025-07-15T05:25:33.062101Z",
     "iopub.status.idle": "2025-07-15T05:25:33.071075Z",
     "shell.execute_reply": "2025-07-15T05:25:33.070362Z"
    },
    "papermill": {
     "duration": 0.023124,
     "end_time": "2025-07-15T05:25:33.072722",
     "exception": false,
     "start_time": "2025-07-15T05:25:33.049598",
     "status": "completed"
    },
    "tags": []
   },
   "outputs": [
    {
     "name": "stdout",
     "output_type": "stream",
     "text": [
      "[1 1 0 1 0 0 0 0 0 1 0 0 1 1 1 1 1 0 1 0 1 1 1 1 1 1 1 1 1 1 1 0 0 1 0 0 1\n",
      " 0 1 1 1 1 1 1 1 1 1 1 0 1 0 0 0 1 0 0 0 1 0 1 0 1 1 1 0 0 0 1 1 1 1 1 1 0\n",
      " 0 0 1 0 0 0 0 0 1 1 1 0 1 0 1 0 0 0 1 0 1 0 1 0 1 1 1 1 1 0 0 1 0 1 0 1 1\n",
      " 1 0 0 1 0 1 0 0 1 1 1 1 0 1 1 1 1 1 0 0 0 1 1 1 0 0 1 0 1 0 0 0 0 1 1 1 0\n",
      " 1 0 1 1 1 0 0 0 1 1 0 0 0 1 1 0 1 1 1 1 1 1 1 1 1 1 1 1 0 1 1 0 0 0 0 0 1\n",
      " 0 1 0 1 0 0 1 1 1 0 1 1 1 1 0 1 1 1 0 1 1 1 1 1 0 1 1 1 1 0 0 1 0 1 1 0 1\n",
      " 1 0 1 0 0 1 1 0 0 0 1 0 1 0 1 1 0 0 0 0 0 0 1 1 0 1 0 1 1 0 1 1 1 0 1 0 0\n",
      " 1 1 1 1 1 1 0 0 0 0 1 0 0 1 0 1 0 0 1 1 1 0 1 1 0 1 0 0 1 1 1 0 1 0 1 0 1\n",
      " 0 1 1 1 1 0 1 1 0 1 1 0]\n"
     ]
    }
   ],
   "source": [
    "y_pred = classifier.predict(X_test)\n",
    "print(y_pred)"
   ]
  },
  {
   "cell_type": "code",
   "execution_count": 15,
   "id": "39b5dacd",
   "metadata": {
    "execution": {
     "iopub.execute_input": "2025-07-15T05:25:33.097946Z",
     "iopub.status.busy": "2025-07-15T05:25:33.097614Z",
     "iopub.status.idle": "2025-07-15T05:25:33.106978Z",
     "shell.execute_reply": "2025-07-15T05:25:33.106287Z"
    },
    "papermill": {
     "duration": 0.023538,
     "end_time": "2025-07-15T05:25:33.108581",
     "exception": false,
     "start_time": "2025-07-15T05:25:33.085043",
     "status": "completed"
    },
    "tags": []
   },
   "outputs": [
    {
     "name": "stdout",
     "output_type": "stream",
     "text": [
      "Accuracy score: 0.8668831168831169\n"
     ]
    }
   ],
   "source": [
    "from sklearn.metrics import accuracy_score\n",
    "acc1 = accuracy_score(y_test, y_pred)\n",
    "print(f\"Accuracy score: {acc1}\")"
   ]
  },
  {
   "cell_type": "code",
   "execution_count": 16,
   "id": "22b3c90f",
   "metadata": {
    "execution": {
     "iopub.execute_input": "2025-07-15T05:25:33.135161Z",
     "iopub.status.busy": "2025-07-15T05:25:33.134833Z",
     "iopub.status.idle": "2025-07-15T05:25:33.166919Z",
     "shell.execute_reply": "2025-07-15T05:25:33.166140Z"
    },
    "papermill": {
     "duration": 0.046422,
     "end_time": "2025-07-15T05:25:33.168596",
     "exception": false,
     "start_time": "2025-07-15T05:25:33.122174",
     "status": "completed"
    },
    "tags": []
   },
   "outputs": [
    {
     "data": {
      "text/html": [
       "<style>#sk-container-id-2 {color: black;background-color: white;}#sk-container-id-2 pre{padding: 0;}#sk-container-id-2 div.sk-toggleable {background-color: white;}#sk-container-id-2 label.sk-toggleable__label {cursor: pointer;display: block;width: 100%;margin-bottom: 0;padding: 0.3em;box-sizing: border-box;text-align: center;}#sk-container-id-2 label.sk-toggleable__label-arrow:before {content: \"▸\";float: left;margin-right: 0.25em;color: #696969;}#sk-container-id-2 label.sk-toggleable__label-arrow:hover:before {color: black;}#sk-container-id-2 div.sk-estimator:hover label.sk-toggleable__label-arrow:before {color: black;}#sk-container-id-2 div.sk-toggleable__content {max-height: 0;max-width: 0;overflow: hidden;text-align: left;background-color: #f0f8ff;}#sk-container-id-2 div.sk-toggleable__content pre {margin: 0.2em;color: black;border-radius: 0.25em;background-color: #f0f8ff;}#sk-container-id-2 input.sk-toggleable__control:checked~div.sk-toggleable__content {max-height: 200px;max-width: 100%;overflow: auto;}#sk-container-id-2 input.sk-toggleable__control:checked~label.sk-toggleable__label-arrow:before {content: \"▾\";}#sk-container-id-2 div.sk-estimator input.sk-toggleable__control:checked~label.sk-toggleable__label {background-color: #d4ebff;}#sk-container-id-2 div.sk-label input.sk-toggleable__control:checked~label.sk-toggleable__label {background-color: #d4ebff;}#sk-container-id-2 input.sk-hidden--visually {border: 0;clip: rect(1px 1px 1px 1px);clip: rect(1px, 1px, 1px, 1px);height: 1px;margin: -1px;overflow: hidden;padding: 0;position: absolute;width: 1px;}#sk-container-id-2 div.sk-estimator {font-family: monospace;background-color: #f0f8ff;border: 1px dotted black;border-radius: 0.25em;box-sizing: border-box;margin-bottom: 0.5em;}#sk-container-id-2 div.sk-estimator:hover {background-color: #d4ebff;}#sk-container-id-2 div.sk-parallel-item::after {content: \"\";width: 100%;border-bottom: 1px solid gray;flex-grow: 1;}#sk-container-id-2 div.sk-label:hover label.sk-toggleable__label {background-color: #d4ebff;}#sk-container-id-2 div.sk-serial::before {content: \"\";position: absolute;border-left: 1px solid gray;box-sizing: border-box;top: 0;bottom: 0;left: 50%;z-index: 0;}#sk-container-id-2 div.sk-serial {display: flex;flex-direction: column;align-items: center;background-color: white;padding-right: 0.2em;padding-left: 0.2em;position: relative;}#sk-container-id-2 div.sk-item {position: relative;z-index: 1;}#sk-container-id-2 div.sk-parallel {display: flex;align-items: stretch;justify-content: center;background-color: white;position: relative;}#sk-container-id-2 div.sk-item::before, #sk-container-id-2 div.sk-parallel-item::before {content: \"\";position: absolute;border-left: 1px solid gray;box-sizing: border-box;top: 0;bottom: 0;left: 50%;z-index: -1;}#sk-container-id-2 div.sk-parallel-item {display: flex;flex-direction: column;z-index: 1;position: relative;background-color: white;}#sk-container-id-2 div.sk-parallel-item:first-child::after {align-self: flex-end;width: 50%;}#sk-container-id-2 div.sk-parallel-item:last-child::after {align-self: flex-start;width: 50%;}#sk-container-id-2 div.sk-parallel-item:only-child::after {width: 0;}#sk-container-id-2 div.sk-dashed-wrapped {border: 1px dashed gray;margin: 0 0.4em 0.5em 0.4em;box-sizing: border-box;padding-bottom: 0.4em;background-color: white;}#sk-container-id-2 div.sk-label label {font-family: monospace;font-weight: bold;display: inline-block;line-height: 1.2em;}#sk-container-id-2 div.sk-label-container {text-align: center;}#sk-container-id-2 div.sk-container {/* jupyter's `normalize.less` sets `[hidden] { display: none; }` but bootstrap.min.css set `[hidden] { display: none !important; }` so we also need the `!important` here to be able to override the default hidden behavior on the sphinx rendered scikit-learn.org. See: https://github.com/scikit-learn/scikit-learn/issues/21755 */display: inline-block !important;position: relative;}#sk-container-id-2 div.sk-text-repr-fallback {display: none;}</style><div id=\"sk-container-id-2\" class=\"sk-top-container\"><div class=\"sk-text-repr-fallback\"><pre>SVC(kernel=&#x27;linear&#x27;, random_state=0)</pre><b>In a Jupyter environment, please rerun this cell to show the HTML representation or trust the notebook. <br />On GitHub, the HTML representation is unable to render, please try loading this page with nbviewer.org.</b></div><div class=\"sk-container\" hidden><div class=\"sk-item\"><div class=\"sk-estimator sk-toggleable\"><input class=\"sk-toggleable__control sk-hidden--visually\" id=\"sk-estimator-id-2\" type=\"checkbox\" checked><label for=\"sk-estimator-id-2\" class=\"sk-toggleable__label sk-toggleable__label-arrow\">SVC</label><div class=\"sk-toggleable__content\"><pre>SVC(kernel=&#x27;linear&#x27;, random_state=0)</pre></div></div></div></div></div>"
      ],
      "text/plain": [
       "SVC(kernel='linear', random_state=0)"
      ]
     },
     "execution_count": 16,
     "metadata": {},
     "output_type": "execute_result"
    }
   ],
   "source": [
    "## SVM\n",
    "from sklearn.svm import SVC\n",
    "classifier = SVC(kernel = 'linear', random_state = 0)\n",
    "classifier.fit(X_train, y_train)"
   ]
  },
  {
   "cell_type": "code",
   "execution_count": 17,
   "id": "3575342b",
   "metadata": {
    "execution": {
     "iopub.execute_input": "2025-07-15T05:25:33.184985Z",
     "iopub.status.busy": "2025-07-15T05:25:33.184613Z",
     "iopub.status.idle": "2025-07-15T05:25:33.195350Z",
     "shell.execute_reply": "2025-07-15T05:25:33.194250Z"
    },
    "papermill": {
     "duration": 0.02052,
     "end_time": "2025-07-15T05:25:33.196772",
     "exception": false,
     "start_time": "2025-07-15T05:25:33.176252",
     "status": "completed"
    },
    "tags": []
   },
   "outputs": [
    {
     "name": "stdout",
     "output_type": "stream",
     "text": [
      "[[112  33]\n",
      " [ 11 152]]\n"
     ]
    }
   ],
   "source": [
    "y_pred = classifier.predict(X_test)\n",
    "from sklearn.metrics import confusion_matrix, accuracy_score\n",
    "cm = confusion_matrix(y_test, y_pred)\n",
    "print(cm)"
   ]
  },
  {
   "cell_type": "code",
   "execution_count": 18,
   "id": "867fe3de",
   "metadata": {
    "execution": {
     "iopub.execute_input": "2025-07-15T05:25:33.213677Z",
     "iopub.status.busy": "2025-07-15T05:25:33.212734Z",
     "iopub.status.idle": "2025-07-15T05:25:33.378430Z",
     "shell.execute_reply": "2025-07-15T05:25:33.377570Z"
    },
    "papermill": {
     "duration": 0.175258,
     "end_time": "2025-07-15T05:25:33.379868",
     "exception": false,
     "start_time": "2025-07-15T05:25:33.204610",
     "status": "completed"
    },
    "tags": []
   },
   "outputs": [
    {
     "data": {
      "image/png": "[encoded data removed]",
      "text/plain": [
       "<Figure size 640x480 with 2 Axes>"
      ]
     },
     "metadata": {},
     "output_type": "display_data"
    }
   ],
   "source": [
    "sns.heatmap(cm,annot=True)\n",
    "plt.show()"
   ]
  },
  {
   "cell_type": "code",
   "execution_count": 19,
   "id": "43402cf3",
   "metadata": {
    "execution": {
     "iopub.execute_input": "2025-07-15T05:25:33.396594Z",
     "iopub.status.busy": "2025-07-15T05:25:33.396254Z",
     "iopub.status.idle": "2025-07-15T05:25:33.403171Z",
     "shell.execute_reply": "2025-07-15T05:25:33.402116Z"
    },
    "papermill": {
     "duration": 0.016778,
     "end_time": "2025-07-15T05:25:33.404540",
     "exception": false,
     "start_time": "2025-07-15T05:25:33.387762",
     "status": "completed"
    },
    "tags": []
   },
   "outputs": [
    {
     "name": "stdout",
     "output_type": "stream",
     "text": [
      "Accuracy score: 0.8571428571428571\n"
     ]
    }
   ],
   "source": [
    "acc2 = accuracy_score(y_test, y_pred)\n",
    "print(f\"Accuracy score: {acc2}\")"
   ]
  },
  {
   "cell_type": "code",
   "execution_count": 20,
   "id": "23283273",
   "metadata": {
    "execution": {
     "iopub.execute_input": "2025-07-15T05:25:33.420942Z",
     "iopub.status.busy": "2025-07-15T05:25:33.420678Z",
     "iopub.status.idle": "2025-07-15T05:25:33.552093Z",
     "shell.execute_reply": "2025-07-15T05:25:33.551188Z"
    },
    "papermill": {
     "duration": 0.141553,
     "end_time": "2025-07-15T05:25:33.553789",
     "exception": false,
     "start_time": "2025-07-15T05:25:33.412236",
     "status": "completed"
    },
    "tags": []
   },
   "outputs": [
    {
     "data": {
      "text/html": [
       "<style>#sk-container-id-3 {color: black;background-color: white;}#sk-container-id-3 pre{padding: 0;}#sk-container-id-3 div.sk-toggleable {background-color: white;}#sk-container-id-3 label.sk-toggleable__label {cursor: pointer;display: block;width: 100%;margin-bottom: 0;padding: 0.3em;box-sizing: border-box;text-align: center;}#sk-container-id-3 label.sk-toggleable__label-arrow:before {content: \"▸\";float: left;margin-right: 0.25em;color: #696969;}#sk-container-id-3 label.sk-toggleable__label-arrow:hover:before {color: black;}#sk-container-id-3 div.sk-estimator:hover label.sk-toggleable__label-arrow:before {color: black;}#sk-container-id-3 div.sk-toggleable__content {max-height: 0;max-width: 0;overflow: hidden;text-align: left;background-color: #f0f8ff;}#sk-container-id-3 div.sk-toggleable__content pre {margin: 0.2em;color: black;border-radius: 0.25em;background-color: #f0f8ff;}#sk-container-id-3 input.sk-toggleable__control:checked~div.sk-toggleable__content {max-height: 200px;max-width: 100%;overflow: auto;}#sk-container-id-3 input.sk-toggleable__control:checked~label.sk-toggleable__label-arrow:before {content: \"▾\";}#sk-container-id-3 div.sk-estimator input.sk-toggleable__control:checked~label.sk-toggleable__label {background-color: #d4ebff;}#sk-container-id-3 div.sk-label input.sk-toggleable__control:checked~label.sk-toggleable__label {background-color: #d4ebff;}#sk-container-id-3 input.sk-hidden--visually {border: 0;clip: rect(1px 1px 1px 1px);clip: rect(1px, 1px, 1px, 1px);height: 1px;margin: -1px;overflow: hidden;padding: 0;position: absolute;width: 1px;}#sk-container-id-3 div.sk-estimator {font-family: monospace;background-color: #f0f8ff;border: 1px dotted black;border-radius: 0.25em;box-sizing: border-box;margin-bottom: 0.5em;}#sk-container-id-3 div.sk-estimator:hover {background-color: #d4ebff;}#sk-container-id-3 div.sk-parallel-item::after {content: \"\";width: 100%;border-bottom: 1px solid gray;flex-grow: 1;}#sk-container-id-3 div.sk-label:hover label.sk-toggleable__label {background-color: #d4ebff;}#sk-container-id-3 div.sk-serial::before {content: \"\";position: absolute;border-left: 1px solid gray;box-sizing: border-box;top: 0;bottom: 0;left: 50%;z-index: 0;}#sk-container-id-3 div.sk-serial {display: flex;flex-direction: column;align-items: center;background-color: white;padding-right: 0.2em;padding-left: 0.2em;position: relative;}#sk-container-id-3 div.sk-item {position: relative;z-index: 1;}#sk-container-id-3 div.sk-parallel {display: flex;align-items: stretch;justify-content: center;background-color: white;position: relative;}#sk-container-id-3 div.sk-item::before, #sk-container-id-3 div.sk-parallel-item::before {content: \"\";position: absolute;border-left: 1px solid gray;box-sizing: border-box;top: 0;bottom: 0;left: 50%;z-index: -1;}#sk-container-id-3 div.sk-parallel-item {display: flex;flex-direction: column;z-index: 1;position: relative;background-color: white;}#sk-container-id-3 div.sk-parallel-item:first-child::after {align-self: flex-end;width: 50%;}#sk-container-id-3 div.sk-parallel-item:last-child::after {align-self: flex-start;width: 50%;}#sk-container-id-3 div.sk-parallel-item:only-child::after {width: 0;}#sk-container-id-3 div.sk-dashed-wrapped {border: 1px dashed gray;margin: 0 0.4em 0.5em 0.4em;box-sizing: border-box;padding-bottom: 0.4em;background-color: white;}#sk-container-id-3 div.sk-label label {font-family: monospace;font-weight: bold;display: inline-block;line-height: 1.2em;}#sk-container-id-3 div.sk-label-container {text-align: center;}#sk-container-id-3 div.sk-container {/* jupyter's `normalize.less` sets `[hidden] { display: none; }` but bootstrap.min.css set `[hidden] { display: none !important; }` so we also need the `!important` here to be able to override the default hidden behavior on the sphinx rendered scikit-learn.org. See: https://github.com/scikit-learn/scikit-learn/issues/21755 */display: inline-block !important;position: relative;}#sk-container-id-3 div.sk-text-repr-fallback {display: none;}</style><div id=\"sk-container-id-3\" class=\"sk-top-container\"><div class=\"sk-text-repr-fallback\"><pre>KNeighborsClassifier()</pre><b>In a Jupyter environment, please rerun this cell to show the HTML representation or trust the notebook. <br />On GitHub, the HTML representation is unable to render, please try loading this page with nbviewer.org.</b></div><div class=\"sk-container\" hidden><div class=\"sk-item\"><div class=\"sk-estimator sk-toggleable\"><input class=\"sk-toggleable__control sk-hidden--visually\" id=\"sk-estimator-id-3\" type=\"checkbox\" checked><label for=\"sk-estimator-id-3\" class=\"sk-toggleable__label sk-toggleable__label-arrow\">KNeighborsClassifier</label><div class=\"sk-toggleable__content\"><pre>KNeighborsClassifier()</pre></div></div></div></div></div>"
      ],
      "text/plain": [
       "KNeighborsClassifier()"
      ]
     },
     "execution_count": 20,
     "metadata": {},
     "output_type": "execute_result"
    }
   ],
   "source": [
    "## K-NN\n",
    "from sklearn.neighbors import KNeighborsClassifier\n",
    "classifier = KNeighborsClassifier(n_neighbors = 5, metric = 'minkowski', p = 2)\n",
    "classifier.fit(X_train, y_train)"
   ]
  },
  {
   "cell_type": "code",
   "execution_count": 21,
   "id": "0e076d47",
   "metadata": {
    "execution": {
     "iopub.execute_input": "2025-07-15T05:25:33.572123Z",
     "iopub.status.busy": "2025-07-15T05:25:33.571373Z",
     "iopub.status.idle": "2025-07-15T05:25:33.595902Z",
     "shell.execute_reply": "2025-07-15T05:25:33.594894Z"
    },
    "papermill": {
     "duration": 0.035397,
     "end_time": "2025-07-15T05:25:33.597565",
     "exception": false,
     "start_time": "2025-07-15T05:25:33.562168",
     "status": "completed"
    },
    "tags": []
   },
   "outputs": [],
   "source": [
    "y_pred = classifier.predict(X_test)"
   ]
  },
  {
   "cell_type": "code",
   "execution_count": 22,
   "id": "5009fa61",
   "metadata": {
    "execution": {
     "iopub.execute_input": "2025-07-15T05:25:33.614929Z",
     "iopub.status.busy": "2025-07-15T05:25:33.614611Z",
     "iopub.status.idle": "2025-07-15T05:25:33.622571Z",
     "shell.execute_reply": "2025-07-15T05:25:33.621774Z"
    },
    "papermill": {
     "duration": 0.01821,
     "end_time": "2025-07-15T05:25:33.623904",
     "exception": false,
     "start_time": "2025-07-15T05:25:33.605694",
     "status": "completed"
    },
    "tags": []
   },
   "outputs": [
    {
     "name": "stdout",
     "output_type": "stream",
     "text": [
      "[[126  19]\n",
      " [ 19 144]]\n"
     ]
    }
   ],
   "source": [
    "cm = confusion_matrix(y_test, y_pred)\n",
    "print(cm)"
   ]
  },
  {
   "cell_type": "code",
   "execution_count": 23,
   "id": "87283997",
   "metadata": {
    "execution": {
     "iopub.execute_input": "2025-07-15T05:25:33.641097Z",
     "iopub.status.busy": "2025-07-15T05:25:33.640772Z",
     "iopub.status.idle": "2025-07-15T05:25:33.803307Z",
     "shell.execute_reply": "2025-07-15T05:25:33.802395Z"
    },
    "papermill": {
     "duration": 0.173124,
     "end_time": "2025-07-15T05:25:33.804976",
     "exception": false,
     "start_time": "2025-07-15T05:25:33.631852",
     "status": "completed"
    },
    "tags": []
   },
   "outputs": [
    {
     "data": {
      "image/png": "[encoded data removed]",
      "text/plain": [
       "<Figure size 640x480 with 2 Axes>"
      ]
     },
     "metadata": {},
     "output_type": "display_data"
    }
   ],
   "source": [
    "sns.heatmap(cm,annot=True)\n",
    "plt.show()"
   ]
  },
  {
   "cell_type": "code",
   "execution_count": 24,
   "id": "08f435d3",
   "metadata": {
    "execution": {
     "iopub.execute_input": "2025-07-15T05:25:33.823046Z",
     "iopub.status.busy": "2025-07-15T05:25:33.822716Z",
     "iopub.status.idle": "2025-07-15T05:25:33.829390Z",
     "shell.execute_reply": "2025-07-15T05:25:33.828549Z"
    },
    "papermill": {
     "duration": 0.017235,
     "end_time": "2025-07-15T05:25:33.830702",
     "exception": false,
     "start_time": "2025-07-15T05:25:33.813467",
     "status": "completed"
    },
    "tags": []
   },
   "outputs": [
    {
     "name": "stdout",
     "output_type": "stream",
     "text": [
      "Accuracy score: 0.8766233766233766\n"
     ]
    }
   ],
   "source": [
    "acc3 = accuracy_score(y_test, y_pred)\n",
    "print(f\"Accuracy score: {acc3}\")"
   ]
  },
  {
   "cell_type": "code",
   "execution_count": 25,
   "id": "569c8411",
   "metadata": {
    "execution": {
     "iopub.execute_input": "2025-07-15T05:25:33.849156Z",
     "iopub.status.busy": "2025-07-15T05:25:33.848849Z",
     "iopub.status.idle": "2025-07-15T05:25:33.865260Z",
     "shell.execute_reply": "2025-07-15T05:25:33.864263Z"
    },
    "papermill": {
     "duration": 0.027202,
     "end_time": "2025-07-15T05:25:33.866757",
     "exception": false,
     "start_time": "2025-07-15T05:25:33.839555",
     "status": "completed"
    },
    "tags": []
   },
   "outputs": [
    {
     "data": {
      "text/html": [
       "<style>#sk-container-id-4 {color: black;background-color: white;}#sk-container-id-4 pre{padding: 0;}#sk-container-id-4 div.sk-toggleable {background-color: white;}#sk-container-id-4 label.sk-toggleable__label {cursor: pointer;display: block;width: 100%;margin-bottom: 0;padding: 0.3em;box-sizing: border-box;text-align: center;}#sk-container-id-4 label.sk-toggleable__label-arrow:before {content: \"▸\";float: left;margin-right: 0.25em;color: #696969;}#sk-container-id-4 label.sk-toggleable__label-arrow:hover:before {color: black;}#sk-container-id-4 div.sk-estimator:hover label.sk-toggleable__label-arrow:before {color: black;}#sk-container-id-4 div.sk-toggleable__content {max-height: 0;max-width: 0;overflow: hidden;text-align: left;background-color: #f0f8ff;}#sk-container-id-4 div.sk-toggleable__content pre {margin: 0.2em;color: black;border-radius: 0.25em;background-color: #f0f8ff;}#sk-container-id-4 input.sk-toggleable__control:checked~div.sk-toggleable__content {max-height: 200px;max-width: 100%;overflow: auto;}#sk-container-id-4 input.sk-toggleable__control:checked~label.sk-toggleable__label-arrow:before {content: \"▾\";}#sk-container-id-4 div.sk-estimator input.sk-toggleable__control:checked~label.sk-toggleable__label {background-color: #d4ebff;}#sk-container-id-4 div.sk-label input.sk-toggleable__control:checked~label.sk-toggleable__label {background-color: #d4ebff;}#sk-container-id-4 input.sk-hidden--visually {border: 0;clip: rect(1px 1px 1px 1px);clip: rect(1px, 1px, 1px, 1px);height: 1px;margin: -1px;overflow: hidden;padding: 0;position: absolute;width: 1px;}#sk-container-id-4 div.sk-estimator {font-family: monospace;background-color: #f0f8ff;border: 1px dotted black;border-radius: 0.25em;box-sizing: border-box;margin-bottom: 0.5em;}#sk-container-id-4 div.sk-estimator:hover {background-color: #d4ebff;}#sk-container-id-4 div.sk-parallel-item::after {content: \"\";width: 100%;border-bottom: 1px solid gray;flex-grow: 1;}#sk-container-id-4 div.sk-label:hover label.sk-toggleable__label {background-color: #d4ebff;}#sk-container-id-4 div.sk-serial::before {content: \"\";position: absolute;border-left: 1px solid gray;box-sizing: border-box;top: 0;bottom: 0;left: 50%;z-index: 0;}#sk-container-id-4 div.sk-serial {display: flex;flex-direction: column;align-items: center;background-color: white;padding-right: 0.2em;padding-left: 0.2em;position: relative;}#sk-container-id-4 div.sk-item {position: relative;z-index: 1;}#sk-container-id-4 div.sk-parallel {display: flex;align-items: stretch;justify-content: center;background-color: white;position: relative;}#sk-container-id-4 div.sk-item::before, #sk-container-id-4 div.sk-parallel-item::before {content: \"\";position: absolute;border-left: 1px solid gray;box-sizing: border-box;top: 0;bottom: 0;left: 50%;z-index: -1;}#sk-container-id-4 div.sk-parallel-item {display: flex;flex-direction: column;z-index: 1;position: relative;background-color: white;}#sk-container-id-4 div.sk-parallel-item:first-child::after {align-self: flex-end;width: 50%;}#sk-container-id-4 div.sk-parallel-item:last-child::after {align-self: flex-start;width: 50%;}#sk-container-id-4 div.sk-parallel-item:only-child::after {width: 0;}#sk-container-id-4 div.sk-dashed-wrapped {border: 1px dashed gray;margin: 0 0.4em 0.5em 0.4em;box-sizing: border-box;padding-bottom: 0.4em;background-color: white;}#sk-container-id-4 div.sk-label label {font-family: monospace;font-weight: bold;display: inline-block;line-height: 1.2em;}#sk-container-id-4 div.sk-label-container {text-align: center;}#sk-container-id-4 div.sk-container {/* jupyter's `normalize.less` sets `[hidden] { display: none; }` but bootstrap.min.css set `[hidden] { display: none !important; }` so we also need the `!important` here to be able to override the default hidden behavior on the sphinx rendered scikit-learn.org. See: https://github.com/scikit-learn/scikit-learn/issues/21755 */display: inline-block !important;position: relative;}#sk-container-id-4 div.sk-text-repr-fallback {display: none;}</style><div id=\"sk-container-id-4\" class=\"sk-top-container\"><div class=\"sk-text-repr-fallback\"><pre>GaussianNB()</pre><b>In a Jupyter environment, please rerun this cell to show the HTML representation or trust the notebook. <br />On GitHub, the HTML representation is unable to render, please try loading this page with nbviewer.org.</b></div><div class=\"sk-container\" hidden><div class=\"sk-item\"><div class=\"sk-estimator sk-toggleable\"><input class=\"sk-toggleable__control sk-hidden--visually\" id=\"sk-estimator-id-4\" type=\"checkbox\" checked><label for=\"sk-estimator-id-4\" class=\"sk-toggleable__label sk-toggleable__label-arrow\">GaussianNB</label><div class=\"sk-toggleable__content\"><pre>GaussianNB()</pre></div></div></div></div></div>"
      ],
      "text/plain": [
       "GaussianNB()"
      ]
     },
     "execution_count": 25,
     "metadata": {},
     "output_type": "execute_result"
    }
   ],
   "source": [
    "## Naive Bayes\n",
    "from sklearn.naive_bayes import GaussianNB\n",
    "classifier = GaussianNB()\n",
    "classifier.fit(X_train, y_train)"
   ]
  },
  {
   "cell_type": "code",
   "execution_count": 26,
   "id": "4a8aba2b",
   "metadata": {
    "execution": {
     "iopub.execute_input": "2025-07-15T05:25:33.885732Z",
     "iopub.status.busy": "2025-07-15T05:25:33.885043Z",
     "iopub.status.idle": "2025-07-15T05:25:33.892125Z",
     "shell.execute_reply": "2025-07-15T05:25:33.891377Z"
    },
    "papermill": {
     "duration": 0.017633,
     "end_time": "2025-07-15T05:25:33.893503",
     "exception": false,
     "start_time": "2025-07-15T05:25:33.875870",
     "status": "completed"
    },
    "tags": []
   },
   "outputs": [
    {
     "name": "stdout",
     "output_type": "stream",
     "text": [
      "[[118  27]\n",
      " [ 21 142]]\n"
     ]
    }
   ],
   "source": [
    "y_pred = classifier.predict(X_test)\n",
    "cm = confusion_matrix(y_test, y_pred)\n",
    "print(cm)"
   ]
  },
  {
   "cell_type": "code",
   "execution_count": 27,
   "id": "ca622e60",
   "metadata": {
    "execution": {
     "iopub.execute_input": "2025-07-15T05:25:33.911863Z",
     "iopub.status.busy": "2025-07-15T05:25:33.911114Z",
     "iopub.status.idle": "2025-07-15T05:25:34.073190Z",
     "shell.execute_reply": "2025-07-15T05:25:34.072360Z"
    },
    "papermill": {
     "duration": 0.17268,
     "end_time": "2025-07-15T05:25:34.074696",
     "exception": false,
     "start_time": "2025-07-15T05:25:33.902016",
     "status": "completed"
    },
    "tags": []
   },
   "outputs": [
    {
     "data": {
      "image/png": "[encoded data removed]",
      "text/plain": [
       "<Figure size 640x480 with 2 Axes>"
      ]
     },
     "metadata": {},
     "output_type": "display_data"
    }
   ],
   "source": [
    "sns.heatmap(cm,annot=True)\n",
    "plt.show()"
   ]
  },
  {
   "cell_type": "code",
   "execution_count": 28,
   "id": "a10470e9",
   "metadata": {
    "execution": {
     "iopub.execute_input": "2025-07-15T05:25:34.093481Z",
     "iopub.status.busy": "2025-07-15T05:25:34.093151Z",
     "iopub.status.idle": "2025-07-15T05:25:34.099824Z",
     "shell.execute_reply": "2025-07-15T05:25:34.099009Z"
    },
    "papermill": {
     "duration": 0.017557,
     "end_time": "2025-07-15T05:25:34.101107",
     "exception": false,
     "start_time": "2025-07-15T05:25:34.083550",
     "status": "completed"
    },
    "tags": []
   },
   "outputs": [
    {
     "name": "stdout",
     "output_type": "stream",
     "text": [
      "Accuracy score : 0.8441558441558441\n"
     ]
    }
   ],
   "source": [
    "acc4 = accuracy_score(y_test, y_pred)\n",
    "print(f\"Accuracy score : {acc4}\")"
   ]
  },
  {
   "cell_type": "code",
   "execution_count": 29,
   "id": "7c17d92b",
   "metadata": {
    "execution": {
     "iopub.execute_input": "2025-07-15T05:25:34.121848Z",
     "iopub.status.busy": "2025-07-15T05:25:34.121544Z",
     "iopub.status.idle": "2025-07-15T05:25:34.178062Z",
     "shell.execute_reply": "2025-07-15T05:25:34.177058Z"
    },
    "papermill": {
     "duration": 0.069082,
     "end_time": "2025-07-15T05:25:34.179593",
     "exception": false,
     "start_time": "2025-07-15T05:25:34.110511",
     "status": "completed"
    },
    "tags": []
   },
   "outputs": [
    {
     "name": "stdout",
     "output_type": "stream",
     "text": [
      "Accuracy score: 0.9902597402597403\n"
     ]
    }
   ],
   "source": [
    "## Decision Tree Classification\n",
    "from sklearn.tree import DecisionTreeClassifier\n",
    "classifier = DecisionTreeClassifier(criterion = 'entropy', random_state = 0)\n",
    "classifier.fit(X_train, y_train)\n",
    "y_pred = classifier.predict(X_test)\n",
    "acc5 = accuracy_score(y_test, y_pred)\n",
    "print(f\"Accuracy score: {acc5}\")"
   ]
  },
  {
   "cell_type": "code",
   "execution_count": 30,
   "id": "c045c416",
   "metadata": {
    "execution": {
     "iopub.execute_input": "2025-07-15T05:25:34.198426Z",
     "iopub.status.busy": "2025-07-15T05:25:34.198101Z",
     "iopub.status.idle": "2025-07-15T05:25:34.212894Z",
     "shell.execute_reply": "2025-07-15T05:25:34.211913Z"
    },
    "papermill": {
     "duration": 0.025756,
     "end_time": "2025-07-15T05:25:34.214222",
     "exception": false,
     "start_time": "2025-07-15T05:25:34.188466",
     "status": "completed"
    },
    "tags": []
   },
   "outputs": [
    {
     "name": "stdout",
     "output_type": "stream",
     "text": [
      "Accuracy: 0.9902597402597403\n",
      "Confusion Matrix:\n",
      " [[145   0]\n",
      " [  3 160]]\n",
      "Classification Report:\n",
      "               precision    recall  f1-score   support\n",
      "\n",
      "           0       0.98      1.00      0.99       145\n",
      "           1       1.00      0.98      0.99       163\n",
      "\n",
      "    accuracy                           0.99       308\n",
      "   macro avg       0.99      0.99      0.99       308\n",
      "weighted avg       0.99      0.99      0.99       308\n",
      "\n"
     ]
    }
   ],
   "source": [
    "## Step 1: Evaluate with More Metrics\n",
    "from sklearn.metrics import classification_report, confusion_matrix, accuracy_score\n",
    "\n",
    "y_pred = classifier.predict(X_test)\n",
    "\n",
    "print(\"Accuracy:\", accuracy_score(y_test, y_pred))\n",
    "print(\"Confusion Matrix:\\n\", confusion_matrix(y_test, y_pred))\n",
    "print(\"Classification Report:\\n\", classification_report(y_test, y_pred))\n"
   ]
  },
  {
   "cell_type": "code",
   "execution_count": 31,
   "id": "6f5884c8",
   "metadata": {
    "execution": {
     "iopub.execute_input": "2025-07-15T05:25:34.233635Z",
     "iopub.status.busy": "2025-07-15T05:25:34.232890Z",
     "iopub.status.idle": "2025-07-15T05:25:34.413500Z",
     "shell.execute_reply": "2025-07-15T05:25:34.412660Z"
    },
    "papermill": {
     "duration": 0.191785,
     "end_time": "2025-07-15T05:25:34.415009",
     "exception": false,
     "start_time": "2025-07-15T05:25:34.223224",
     "status": "completed"
    },
    "tags": []
   },
   "outputs": [
    {
     "data": {
      "image/png": "[encoded data removed]",
      "text/plain": [
       "<Figure size 640x480 with 2 Axes>"
      ]
     },
     "metadata": {},
     "output_type": "display_data"
    }
   ],
   "source": [
    "## Step 2: Error Analysis\n",
    "sns.heatmap(confusion_matrix(y_test, y_pred), annot=True, fmt='d', cmap='Blues')\n",
    "plt.xlabel(\"Predicted\")\n",
    "plt.ylabel(\"Actual\")\n",
    "plt.title(\"Confusion Matrix\")\n",
    "plt.show()"
   ]
  },
  {
   "cell_type": "code",
   "execution_count": 32,
   "id": "95901c4b",
   "metadata": {
    "execution": {
     "iopub.execute_input": "2025-07-15T05:25:34.493530Z",
     "iopub.status.busy": "2025-07-15T05:25:34.492969Z",
     "iopub.status.idle": "2025-07-15T05:25:34.498675Z",
     "shell.execute_reply": "2025-07-15T05:25:34.497784Z"
    },
    "papermill": {
     "duration": 0.017141,
     "end_time": "2025-07-15T05:25:34.500057",
     "exception": false,
     "start_time": "2025-07-15T05:25:34.482916",
     "status": "completed"
    },
    "tags": []
   },
   "outputs": [
    {
     "name": "stdout",
     "output_type": "stream",
     "text": [
      "[[ 0.27717522 -1.53312338 -0.91725155 -0.66444387  2.14934323 -0.42111744\n",
      "   0.92419637  0.59723284  1.42763286 -0.39793321  0.9790949  -0.73793656\n",
      "  -0.51108759]\n",
      " [ 0.27717522 -1.53312338 -0.91725155 -0.66444387  2.14934323 -0.42111744\n",
      "   0.92419637  0.59723284  1.42763286 -0.39793321  0.9790949  -0.73793656\n",
      "  -0.51108759]\n",
      " [ 0.27717522 -1.53312338 -0.91725155 -0.66444387  2.14934323 -0.42111744\n",
      "   0.92419637  0.59723284  1.42763286 -0.39793321  0.9790949  -0.73793656\n",
      "  -0.51108759]]\n"
     ]
    }
   ],
   "source": [
    "## misclassified rows\n",
    "misclassified = X_test[y_pred != y_test]\n",
    "print(misclassified)"
   ]
  },
  {
   "cell_type": "code",
   "execution_count": 33,
   "id": "27c655e7",
   "metadata": {
    "execution": {
     "iopub.execute_input": "2025-07-15T05:25:34.520277Z",
     "iopub.status.busy": "2025-07-15T05:25:34.519967Z",
     "iopub.status.idle": "2025-07-15T05:25:34.525077Z",
     "shell.execute_reply": "2025-07-15T05:25:34.524262Z"
    },
    "papermill": {
     "duration": 0.017051,
     "end_time": "2025-07-15T05:25:34.526540",
     "exception": false,
     "start_time": "2025-07-15T05:25:34.509489",
     "status": "completed"
    },
    "tags": []
   },
   "outputs": [],
   "source": [
    "X = data.drop('target', axis=1)\n",
    "y = data['target']  "
   ]
  },
  {
   "cell_type": "code",
   "execution_count": 34,
   "id": "d07100f8",
   "metadata": {
    "execution": {
     "iopub.execute_input": "2025-07-15T05:25:34.546263Z",
     "iopub.status.busy": "2025-07-15T05:25:34.545679Z",
     "iopub.status.idle": "2025-07-15T05:25:34.584418Z",
     "shell.execute_reply": "2025-07-15T05:25:34.583436Z"
    },
    "papermill": {
     "duration": 0.050245,
     "end_time": "2025-07-15T05:25:34.586101",
     "exception": false,
     "start_time": "2025-07-15T05:25:34.535856",
     "status": "completed"
    },
    "tags": []
   },
   "outputs": [
    {
     "name": "stdout",
     "output_type": "stream",
     "text": [
      "Cross-validation scores: [0.9804878 1.        1.        1.        1.       ]\n",
      "Average CV score: 0.9960975609756098\n"
     ]
    }
   ],
   "source": [
    "## Cross-Validation\n",
    "from sklearn.model_selection import cross_val_score\n",
    "\n",
    "scores = cross_val_score(classifier, X, y, cv=5)\n",
    "print(\"Cross-validation scores:\", scores)\n",
    "print(\"Average CV score:\", scores.mean())"
   ]
  }
 ],
 "metadata": {
  "kaggle": {
   "accelerator": "none",
   "dataSources": [
    {
     "datasetId": 7699394,
     "sourceId": 12220869,
     "sourceType": "datasetVersion"
    }
   ],
   "dockerImageVersionId": 31089,
   "isGpuEnabled": false,
   "isInternetEnabled": true,
   "language": "python",
   "sourceType": "notebook"
  },
  "kernelspec": {
   "display_name": "Python 3",
   "language": "python",
   "name": "python3"
  },
  "language_info": {
   "codemirror_mode": {
    "name": "ipython",
    "version": 3
   },
   "file_extension": ".py",
   "mimetype": "text/x-python",
   "name": "python",
   "nbconvert_exporter": "python",
   "pygments_lexer": "ipython3",
   "version": "3.11.13"
  },
  "papermill": {
   "default_parameters": {},
   "duration": 11.777444,
   "end_time": "2025-07-15T05:25:35.315855",
   "environment_variables": {},
   "exception": null,
   "input_path": "__notebook__.ipynb",
   "output_path": "__notebook__.ipynb",
   "parameters": {},
   "start_time": "2025-07-15T05:25:23.538411",
   "version": "2.6.0"
  }
 },
 "nbformat": 4,
 "nbformat_minor": 5
}
